{
  "nbformat": 4,
  "nbformat_minor": 0,
  "metadata": {
    "colab": {
      "provenance": [],
      "include_colab_link": true
    },
    "kernelspec": {
      "name": "python3",
      "display_name": "Python 3"
    },
    "language_info": {
      "name": "python"
    }
  },
  "cells": [
    {
      "cell_type": "markdown",
      "metadata": {
        "id": "view-in-github",
        "colab_type": "text"
      },
      "source": [
        "<a href=\"https://colab.research.google.com/github/r-ranjithlingaiah/ranjithpython/blob/main/Module1_py.ipynb\" target=\"_parent\"><img src=\"https://colab.research.google.com/assets/colab-badge.svg\" alt=\"Open In Colab\"/></a>"
      ]
    },
    {
      "cell_type": "markdown",
      "source": [
        "#Modeul1"
      ],
      "metadata": {
        "id": "bqmVFIyPA0ma"
      }
    },
    {
      "cell_type": "code",
      "execution_count": null,
      "metadata": {
        "id": "ncSua4Ef_6xy"
      },
      "outputs": [],
      "source": [
        "#---->single line commenting\n",
        "#what is multiline comminting?---->\"\"\" \"\"\", ''' '''\n"
      ]
    },
    {
      "cell_type": "code",
      "source": [
        "#write a print \"hello world\" program in python?\n",
        "\n",
        "print(\"Hello world!\")\n",
        "#using print()\n"
      ],
      "metadata": {
        "colab": {
          "base_uri": "https://localhost:8080/"
        },
        "id": "1yD3Y6gjCKU7",
        "outputId": "6457e554-e8aa-412e-d301-a55c27a5b9bc"
      },
      "execution_count": null,
      "outputs": [
        {
          "output_type": "stream",
          "name": "stdout",
          "text": [
            "Hello world!\n"
          ]
        }
      ]
    },
    {
      "cell_type": "code",
      "source": [
        "print(type(-2))"
      ],
      "metadata": {
        "colab": {
          "base_uri": "https://localhost:8080/"
        },
        "id": "KAMk0Tm6E08t",
        "outputId": "494e2f9b-453d-4c99-c080-116efcf520b4"
      },
      "execution_count": null,
      "outputs": [
        {
          "output_type": "stream",
          "name": "stdout",
          "text": [
            "<class 'int'>\n"
          ]
        }
      ]
    },
    {
      "cell_type": "code",
      "source": [
        "#3complex number: - a whole number with imaginary part suppose to call as complex number\n",
        "\n",
        "print(5+2j)\n",
        "print(type(5+2j))"
      ],
      "metadata": {
        "colab": {
          "base_uri": "https://localhost:8080/"
        },
        "id": "NHkRqHClFIz2",
        "outputId": "a6769905-cb45-4c58-e744-139560574126"
      },
      "execution_count": null,
      "outputs": [
        {
          "output_type": "stream",
          "name": "stdout",
          "text": [
            "(5+2j)\n",
            "<class 'complex'>\n"
          ]
        }
      ]
    },
    {
      "cell_type": "markdown",
      "source": [
        "#arthamatic operators"
      ],
      "metadata": {
        "id": "YqtfBHpTGvwL"
      }
    },
    {
      "cell_type": "code",
      "source": [
        "#Numerical Data types in python\n",
        "#There are 3 types of imp numerical data types\n",
        "#what is integer?\n",
        "#a  whole  no either it is +ve or -ve\n",
        "print(2)\n",
        "#use type() to know the type of a data\n",
        "print(type(2))"
      ],
      "metadata": {
        "colab": {
          "base_uri": "https://localhost:8080/"
        },
        "id": "H_u7DnAADNRY",
        "outputId": "13775bdd-13af-4fd4-fb9a-ad1f82960c59"
      },
      "execution_count": null,
      "outputs": [
        {
          "output_type": "stream",
          "name": "stdout",
          "text": [
            "2\n",
            "<class 'int'>\n"
          ]
        }
      ]
    },
    {
      "cell_type": "code",
      "source": [
        "#7 AO\n",
        "#Addition---> +\n",
        "print(2+3)\n",
        "#substraction\n",
        "print(10 - 5)\n",
        "#multiplication--->*\n",
        "print(10 * 5)\n",
        "#division-----> /\n",
        "print(10 / 5)\n",
        "print(10/3)"
      ],
      "metadata": {
        "colab": {
          "base_uri": "https://localhost:8080/"
        },
        "id": "iGtt5u_hGc76",
        "outputId": "05f5db81-e7d3-4c29-fea6-95a630752de7"
      },
      "execution_count": null,
      "outputs": [
        {
          "output_type": "stream",
          "name": "stdout",
          "text": [
            "5\n",
            "5\n",
            "50\n",
            "2.0\n",
            "3.3333333333333335\n"
          ]
        }
      ]
    },
    {
      "cell_type": "code",
      "source": [
        "#modulus:--- %--->noting but remainder of a division operation\n",
        "print(10%5)\n",
        "\n",
        "#write a program to identify weather given number is even or odd?\n",
        "\n",
        "a = 5\n",
        "if a % 2 == 0:\n",
        "  print(\"number is even\")\n",
        "else:\n",
        "  print(\"number is odd\")"
      ],
      "metadata": {
        "colab": {
          "base_uri": "https://localhost:8080/"
        },
        "id": "4rGQ3yQ-IN3Z",
        "outputId": "e2b8edd9-3424-4468-8895-e68a1608fe7b"
      },
      "execution_count": null,
      "outputs": [
        {
          "output_type": "stream",
          "name": "stdout",
          "text": [
            "0\n",
            "number is odd\n"
          ]
        }
      ]
    },
    {
      "cell_type": "code",
      "source": [
        "#exponential------> **\n",
        "# to the power off\n",
        "\n",
        "print(2**4)"
      ],
      "metadata": {
        "colab": {
          "base_uri": "https://localhost:8080/"
        },
        "id": "KEVL7yNUJvBt",
        "outputId": "92ea98d8-5803-48af-8885-ca1f3e85577c"
      },
      "execution_count": null,
      "outputs": [
        {
          "output_type": "stream",
          "name": "stdout",
          "text": [
            "16\n"
          ]
        }
      ]
    },
    {
      "cell_type": "code",
      "source": [
        "\"\"\"floor divison-->it will takes the number before decimal point\n",
        "means ignores the number after decimal point\"\"\"\n",
        "\n",
        "print(10 // 5)\n",
        "print(10 / 3)\n",
        "print(10 // 3)"
      ],
      "metadata": {
        "colab": {
          "base_uri": "https://localhost:8080/"
        },
        "id": "xhOVSuSMKPMT",
        "outputId": "c1f1e1b9-6d53-45c0-e3cb-011e1990ce19"
      },
      "execution_count": null,
      "outputs": [
        {
          "output_type": "stream",
          "name": "stdout",
          "text": [
            "2\n",
            "3.3333333333333335\n",
            "3\n"
          ]
        }
      ]
    },
    {
      "cell_type": "code",
      "source": [
        "#2.Float\n",
        "#a whole number either +ve or -ve with decimal points\n",
        "print(2.333)\n",
        "#fint the type of above data e;lement\n",
        "print(type(2.33))"
      ],
      "metadata": {
        "id": "b8YicVxREaXv"
      },
      "execution_count": null,
      "outputs": []
    },
    {
      "cell_type": "markdown",
      "source": [
        "#erros"
      ],
      "metadata": {
        "id": "3dGK0gJ7K8z_"
      }
    },
    {
      "cell_type": "code",
      "source": [
        "#how many types erros in programming ?\n",
        "#2 types\n",
        "#1.syntax error--->breaking rules of a programming language\n",
        "print(10**5)\n",
        "print(10 ** 5)\n",
        "print(10 * * 5)"
      ],
      "metadata": {
        "colab": {
          "base_uri": "https://localhost:8080/",
          "height": 106
        },
        "id": "0QzeMXdAK7I7",
        "outputId": "8c64a0a3-3fc9-44a4-eb00-df2cbd8fdf7f"
      },
      "execution_count": null,
      "outputs": [
        {
          "output_type": "error",
          "ename": "SyntaxError",
          "evalue": "invalid syntax (<ipython-input-26-8de13a38fd49>, line 6)",
          "traceback": [
            "\u001b[0;36m  File \u001b[0;32m\"<ipython-input-26-8de13a38fd49>\"\u001b[0;36m, line \u001b[0;32m6\u001b[0m\n\u001b[0;31m    print(10 * * 5)\u001b[0m\n\u001b[0m               ^\u001b[0m\n\u001b[0;31mSyntaxError\u001b[0m\u001b[0;31m:\u001b[0m invalid syntax\n"
          ]
        }
      ]
    },
    {
      "cell_type": "code",
      "source": [
        "\"\"\"hi\n",
        "santosh,\n",
        "hoppe u r doing well\"\"\""
      ],
      "metadata": {
        "colab": {
          "base_uri": "https://localhost:8080/",
          "height": 35
        },
        "id": "6Ph3hBW2LmGs",
        "outputId": "b9cbca9c-c385-4874-a52f-0973ad980b2d"
      },
      "execution_count": null,
      "outputs": [
        {
          "output_type": "execute_result",
          "data": {
            "text/plain": [
              "'hi \\nsantosh,\\nhoppe u r doing well'"
            ],
            "application/vnd.google.colaboratory.intrinsic+json": {
              "type": "string"
            }
          },
          "metadata": {},
          "execution_count": 28
        }
      ]
    },
    {
      "cell_type": "code",
      "source": [
        "#logical error: nonother than syntax error all errors are logical errors\n",
        "\n",
        "print(b + 10)"
      ],
      "metadata": {
        "colab": {
          "base_uri": "https://localhost:8080/",
          "height": 176
        },
        "id": "vjvyaZGjL2aX",
        "outputId": "1de56ae8-7b64-479c-a6d4-d965ef5c4d05"
      },
      "execution_count": null,
      "outputs": [
        {
          "output_type": "error",
          "ename": "NameError",
          "evalue": "name 'b' is not defined",
          "traceback": [
            "\u001b[0;31m---------------------------------------------------------------------------\u001b[0m",
            "\u001b[0;31mNameError\u001b[0m                                 Traceback (most recent call last)",
            "\u001b[0;32m<ipython-input-29-f2f9e09e1cc7>\u001b[0m in \u001b[0;36m<cell line: 3>\u001b[0;34m()\u001b[0m\n\u001b[1;32m      1\u001b[0m \u001b[0;31m#logical error: nonother than syntax error all errors are logical errors\u001b[0m\u001b[0;34m\u001b[0m\u001b[0;34m\u001b[0m\u001b[0m\n\u001b[1;32m      2\u001b[0m \u001b[0;34m\u001b[0m\u001b[0m\n\u001b[0;32m----> 3\u001b[0;31m \u001b[0mprint\u001b[0m\u001b[0;34m(\u001b[0m\u001b[0mb\u001b[0m \u001b[0;34m+\u001b[0m \u001b[0;36m10\u001b[0m\u001b[0;34m)\u001b[0m\u001b[0;34m\u001b[0m\u001b[0;34m\u001b[0m\u001b[0m\n\u001b[0m",
            "\u001b[0;31mNameError\u001b[0m: name 'b' is not defined"
          ]
        }
      ]
    },
    {
      "cell_type": "code",
      "source": [
        "#round()--->it will prints specific characters\n",
        "print(10/3)\n",
        "print(round(10/3))\n",
        "#print 1st two decimal numbers?\n",
        "#input is 2.546789 printfirst 3 decimal number?"
      ],
      "metadata": {
        "colab": {
          "base_uri": "https://localhost:8080/"
        },
        "id": "o1jg3rWQMhc_",
        "outputId": "bd13d49b-9226-4c42-d13d-e7ee5655042a"
      },
      "execution_count": null,
      "outputs": [
        {
          "output_type": "stream",
          "name": "stdout",
          "text": [
            "3.3333333333333335\n",
            "3\n"
          ]
        }
      ]
    },
    {
      "cell_type": "code",
      "source": [
        "print(round(2.9999,2))"
      ],
      "metadata": {
        "colab": {
          "base_uri": "https://localhost:8080/"
        },
        "id": "akQrWI_jPQfH",
        "outputId": "ce9afc5d-da40-47d8-e12c-1efe0e00851a"
      },
      "execution_count": null,
      "outputs": [
        {
          "output_type": "stream",
          "name": "stdout",
          "text": [
            "3.0\n"
          ]
        }
      ]
    },
    {
      "cell_type": "code",
      "source": [
        "print(round(3.3333))"
      ],
      "metadata": {
        "colab": {
          "base_uri": "https://localhost:8080/"
        },
        "id": "yccqHrwOQBna",
        "outputId": "a7b6aaeb-fba6-4e22-d3fb-7b8b1320c959"
      },
      "execution_count": null,
      "outputs": [
        {
          "output_type": "stream",
          "name": "stdout",
          "text": [
            "3\n"
          ]
        }
      ]
    },
    {
      "cell_type": "markdown",
      "source": [
        "#variables"
      ],
      "metadata": {
        "id": "XSkPosf4QbVW"
      }
    },
    {
      "cell_type": "code",
      "source": [
        "#what is variables?\n",
        "#is nothing bua a container where we cxan store our data or information and reuse it\n",
        "#how to create a variable?\n",
        "#how to access a varibale?\n",
        "\n",
        "\n",
        "a = 10\n",
        "b = 5\n",
        "print(a + b)\n",
        "print( a - b)"
      ],
      "metadata": {
        "colab": {
          "base_uri": "https://localhost:8080/"
        },
        "id": "T97N7uYuQaWU",
        "outputId": "4d935d5c-62fa-4e12-b115-c62fd85eab7f"
      },
      "execution_count": null,
      "outputs": [
        {
          "output_type": "stream",
          "name": "stdout",
          "text": [
            "15\n",
            "5\n"
          ]
        }
      ]
    },
    {
      "cell_type": "code",
      "source": [
        "#diff b/w dynamically typed and stastisticall typed?\n",
        "#dynamically typed:- no need to define data type for varaible\n",
        "#stastisticall typed:- define data type for the varaible"
      ],
      "metadata": {
        "id": "cePboODKSXWF"
      },
      "execution_count": null,
      "outputs": []
    },
    {
      "cell_type": "code",
      "source": [
        "a = 4.456\n",
        "print(round(a,2))\n",
        "print(type(a))"
      ],
      "metadata": {
        "colab": {
          "base_uri": "https://localhost:8080/"
        },
        "id": "-1_sPfUcZEhq",
        "outputId": "776ba088-cec3-4bcb-9808-16772abdad41"
      },
      "execution_count": null,
      "outputs": [
        {
          "output_type": "stream",
          "name": "stdout",
          "text": [
            "4.46\n",
            "<class 'float'>\n"
          ]
        }
      ]
    },
    {
      "cell_type": "code",
      "source": [
        "#Interpreted programming language-->every line excuted one step ahead in a line\n",
        "a = 5\n",
        "print(a)"
      ],
      "metadata": {
        "colab": {
          "base_uri": "https://localhost:8080/"
        },
        "id": "VygoIagZa5Cu",
        "outputId": "85dad4b9-ae2a-43db-9b73-82fca0716860"
      },
      "execution_count": null,
      "outputs": [
        {
          "output_type": "stream",
          "name": "stdout",
          "text": [
            "5\n"
          ]
        }
      ]
    },
    {
      "cell_type": "code",
      "source": [
        "a = 10\n",
        "print(a)"
      ],
      "metadata": {
        "colab": {
          "base_uri": "https://localhost:8080/"
        },
        "id": "v3Nfid9mbtKM",
        "outputId": "33edffb6-7f70-4c32-8310-189e9c6a9332"
      },
      "execution_count": null,
      "outputs": [
        {
          "output_type": "stream",
          "name": "stdout",
          "text": [
            "10\n"
          ]
        }
      ]
    },
    {
      "cell_type": "code",
      "source": [
        "print(a)"
      ],
      "metadata": {
        "colab": {
          "base_uri": "https://localhost:8080/"
        },
        "id": "AFlV5iCTbu1R",
        "outputId": "d7590137-8742-4880-ecf2-13151a2200d5"
      },
      "execution_count": null,
      "outputs": [
        {
          "output_type": "stream",
          "name": "stdout",
          "text": [
            "10\n"
          ]
        }
      ]
    },
    {
      "cell_type": "code",
      "source": [
        "print(A)"
      ],
      "metadata": {
        "colab": {
          "base_uri": "https://localhost:8080/",
          "height": 141
        },
        "id": "77OzZ0TucdWT",
        "outputId": "4c563912-5dd6-43af-fd78-57a8bf8a3fc3"
      },
      "execution_count": null,
      "outputs": [
        {
          "output_type": "error",
          "ename": "NameError",
          "evalue": "name 'A' is not defined",
          "traceback": [
            "\u001b[0;31m---------------------------------------------------------------------------\u001b[0m",
            "\u001b[0;31mNameError\u001b[0m                                 Traceback (most recent call last)",
            "\u001b[0;32m<ipython-input-7-939330b76721>\u001b[0m in \u001b[0;36m<cell line: 1>\u001b[0;34m()\u001b[0m\n\u001b[0;32m----> 1\u001b[0;31m \u001b[0mprint\u001b[0m\u001b[0;34m(\u001b[0m\u001b[0mA\u001b[0m\u001b[0;34m)\u001b[0m\u001b[0;34m\u001b[0m\u001b[0;34m\u001b[0m\u001b[0m\n\u001b[0m",
            "\u001b[0;31mNameError\u001b[0m: name 'A' is not defined"
          ]
        }
      ]
    },
    {
      "cell_type": "code",
      "source": [
        "#smart ways of writing variables\n",
        "#Assign multiple values to multiple variable\n",
        "x,y,z = 10,20,30\n",
        "# print(x)\n",
        "# print(y)\n",
        "# print(z)\n",
        "print(x,y,z, sep=\"\\n\")  #sep= backward slash n(\"\\n\")\n"
      ],
      "metadata": {
        "colab": {
          "base_uri": "https://localhost:8080/"
        },
        "id": "ZhBRhaJrc8Js",
        "outputId": "d7258346-c1b3-494e-cd86-daeda2d6a183"
      },
      "execution_count": null,
      "outputs": [
        {
          "output_type": "stream",
          "name": "stdout",
          "text": [
            "10\n",
            "20\n",
            "30\n"
          ]
        }
      ]
    },
    {
      "cell_type": "code",
      "source": [
        "#one value to many varaibles\n",
        "x = y = z = 10\n",
        "print(x,y,z, sep=\"\\n\")"
      ],
      "metadata": {
        "colab": {
          "base_uri": "https://localhost:8080/"
        },
        "id": "ECHuhJ1he_lZ",
        "outputId": "45f81292-ea28-4e2d-9768-181d83dac9c0"
      },
      "execution_count": null,
      "outputs": [
        {
          "output_type": "stream",
          "name": "stdout",
          "text": [
            "10\n",
            "10\n",
            "10\n"
          ]
        }
      ]
    },
    {
      "cell_type": "code",
      "source": [
        "x,y,z = 10\n",
        "print(x,y,z, sep=\"\\n\")"
      ],
      "metadata": {
        "colab": {
          "base_uri": "https://localhost:8080/",
          "height": 159
        },
        "id": "AqHkbiyhffW7",
        "outputId": "7a0031c4-ae5f-4113-9d5e-a30e634868e6"
      },
      "execution_count": null,
      "outputs": [
        {
          "output_type": "error",
          "ename": "TypeError",
          "evalue": "cannot unpack non-iterable int object",
          "traceback": [
            "\u001b[0;31m---------------------------------------------------------------------------\u001b[0m",
            "\u001b[0;31mTypeError\u001b[0m                                 Traceback (most recent call last)",
            "\u001b[0;32m<ipython-input-11-5e366f4efc74>\u001b[0m in \u001b[0;36m<cell line: 1>\u001b[0;34m()\u001b[0m\n\u001b[0;32m----> 1\u001b[0;31m \u001b[0mx\u001b[0m\u001b[0;34m,\u001b[0m\u001b[0my\u001b[0m\u001b[0;34m,\u001b[0m\u001b[0mz\u001b[0m \u001b[0;34m=\u001b[0m \u001b[0;36m10\u001b[0m\u001b[0;34m\u001b[0m\u001b[0;34m\u001b[0m\u001b[0m\n\u001b[0m\u001b[1;32m      2\u001b[0m \u001b[0mprint\u001b[0m\u001b[0;34m(\u001b[0m\u001b[0mx\u001b[0m\u001b[0;34m,\u001b[0m\u001b[0my\u001b[0m\u001b[0;34m,\u001b[0m\u001b[0mz\u001b[0m\u001b[0;34m,\u001b[0m \u001b[0msep\u001b[0m\u001b[0;34m=\u001b[0m\u001b[0;34m\"\\n\"\u001b[0m\u001b[0;34m)\u001b[0m\u001b[0;34m\u001b[0m\u001b[0;34m\u001b[0m\u001b[0m\n",
            "\u001b[0;31mTypeError\u001b[0m: cannot unpack non-iterable int object"
          ]
        }
      ]
    },
    {
      "cell_type": "code",
      "source": [
        "#rules to create a variable?\n",
        "\"\"\"1. start the varibles with alphbets\n",
        "  2. dont start with numeric values\n",
        "  3. if you follow rule 1 and 2 star with alphabets inbetween use numerics\n",
        "  4.star with_\n",
        "  5.dont give the spaces in between variables\"\"\""
      ],
      "metadata": {
        "id": "Chxp-l7mmLSI"
      },
      "execution_count": null,
      "outputs": []
    },
    {
      "cell_type": "code",
      "source": [
        "sk sha = 10\n",
        "print(sk sha)"
      ],
      "metadata": {
        "colab": {
          "base_uri": "https://localhost:8080/",
          "height": 106
        },
        "id": "B3_jABpdmXVO",
        "outputId": "fc2df351-08c3-4271-af7e-ad2614e03654"
      },
      "execution_count": null,
      "outputs": [
        {
          "output_type": "error",
          "ename": "SyntaxError",
          "evalue": "invalid syntax (<ipython-input-32-46f896c0ca6c>, line 1)",
          "traceback": [
            "\u001b[0;36m  File \u001b[0;32m\"<ipython-input-32-46f896c0ca6c>\"\u001b[0;36m, line \u001b[0;32m1\u001b[0m\n\u001b[0;31m    sk sha = 10\u001b[0m\n\u001b[0m       ^\u001b[0m\n\u001b[0;31mSyntaxError\u001b[0m\u001b[0;31m:\u001b[0m invalid syntax\n"
          ]
        }
      ]
    },
    {
      "cell_type": "markdown",
      "source": [
        "#input()"
      ],
      "metadata": {
        "id": "keG1txW-ggv5"
      }
    },
    {
      "cell_type": "code",
      "source": [
        "#intake of the information/data\n",
        "#how to take an input fuinction?\n",
        "x = input()\n",
        "print(x)"
      ],
      "metadata": {
        "colab": {
          "base_uri": "https://localhost:8080/"
        },
        "id": "zQz12vQ7f4h-",
        "outputId": "b0d5755e-b9af-4918-cd33-64c65045e21f"
      },
      "execution_count": null,
      "outputs": [
        {
          "output_type": "stream",
          "name": "stdout",
          "text": [
            "hello world!\n",
            "hello world!\n"
          ]
        }
      ]
    },
    {
      "cell_type": "code",
      "source": [
        "x = input(\"please enter your text message: \")\n",
        "print(x)"
      ],
      "metadata": {
        "colab": {
          "base_uri": "https://localhost:8080/"
        },
        "id": "xNBMUrTlhbJe",
        "outputId": "f514b364-afbe-46d5-ac08-e7a285354e65"
      },
      "execution_count": null,
      "outputs": [
        {
          "output_type": "stream",
          "name": "stdout",
          "text": [
            "please enter your text message: hello hi i am shahul welcome to ds\n",
            "hello hi i am shahul welcome to ds\n"
          ]
        }
      ]
    },
    {
      "cell_type": "code",
      "source": [
        "shahul = \"\"\"Hi Team\n",
        "Hope your doing well. this mail is regarding your module 1 training updates\n",
        "pleasew practice daily\n",
        "\n",
        "Best rgards\n",
        "shahul\"\"\""
      ],
      "metadata": {
        "id": "Z7P04al2iNTi"
      },
      "execution_count": null,
      "outputs": []
    },
    {
      "cell_type": "code",
      "source": [
        "mail = input(shahul)\n",
        "print(x)"
      ],
      "metadata": {
        "colab": {
          "base_uri": "https://localhost:8080/"
        },
        "id": "yInVV7LKiCi3",
        "outputId": "4ffe19d7-4c02-456e-8de2-fdb3d4ac47a3"
      },
      "execution_count": null,
      "outputs": [
        {
          "output_type": "stream",
          "name": "stdout",
          "text": [
            "Hi Team\n",
            "Hope your doing well. this mail is regarding your module 1 training updates\n",
            "pleasew practice daily\n",
            "\n",
            "Best rgards\n",
            "shahul\n",
            "\n"
          ]
        }
      ]
    },
    {
      "cell_type": "code",
      "source": [
        "a = input()\n",
        "print(a)\n",
        "print(type(a))\n",
        "#what is the default data type fopr inpuit()?\n",
        "#str"
      ],
      "metadata": {
        "colab": {
          "base_uri": "https://localhost:8080/"
        },
        "id": "N34irVaZjEkE",
        "outputId": "016fd1d9-1844-442f-ae00-ba21b4de0e23"
      },
      "execution_count": null,
      "outputs": [
        {
          "output_type": "stream",
          "name": "stdout",
          "text": [
            "10\n",
            "10\n",
            "<class 'str'>\n"
          ]
        }
      ]
    },
    {
      "cell_type": "code",
      "source": [
        "#Note: str and float cannot change to int but int can change to vise versa"
      ],
      "metadata": {
        "id": "1R1psTZ2jlhy"
      },
      "execution_count": null,
      "outputs": []
    },
    {
      "cell_type": "markdown",
      "source": [
        "#module-2\n",
        "\n",
        " 1.srting\n",
        "\n",
        "2. conditional statements\n",
        "\n",
        "3. loops"
      ],
      "metadata": {
        "id": "u0bBo_z-pWPA"
      }
    },
    {
      "cell_type": "code",
      "source": [
        "#String:\n",
        "#what is string :- collection of multiple characters being taken.\n",
        "#how can we decalre a string?--->(\" \")(' ')\n",
        "print(\"hello world!\")\n",
        "#Note:- each and every character in string is acccesible\n"
      ],
      "metadata": {
        "id": "2ttNlprZlqTn"
      },
      "execution_count": null,
      "outputs": []
    },
    {
      "cell_type": "code",
      "source": [
        "#indexing:-- index number of each character in astring\n",
        "#slicing operators:- ---[]--->by using the slicing operators and with help of indexing we can access each element"
      ],
      "metadata": {
        "id": "vRt_5n1sqSXT"
      },
      "execution_count": null,
      "outputs": []
    },
    {
      "cell_type": "code",
      "source": [
        "#print each element in a string\n",
        "[star]\n",
        "a = \"Hello world!\"\n",
        "print(a[2])\n",
        "print(type(a[2]))"
      ],
      "metadata": {
        "colab": {
          "base_uri": "https://localhost:8080/"
        },
        "id": "hliqgtVxr29P",
        "outputId": "15199ca1-81f1-4f47-b3e9-abe2b00255bc"
      },
      "execution_count": null,
      "outputs": [
        {
          "output_type": "stream",
          "name": "stdout",
          "text": [
            "l\n",
            "<class 'str'>\n"
          ]
        }
      ]
    },
    {
      "cell_type": "code",
      "source": [
        "#print range of values\n",
        "#[start:end]\n",
        "a = \"Hello world!\"\n",
        "print(a[0:6])     #to print specific range of element you should have increase or add postion with 1--n+1"
      ],
      "metadata": {
        "colab": {
          "base_uri": "https://localhost:8080/"
        },
        "id": "Uya5vS1DsiUn",
        "outputId": "e7a57817-de77-4c38-8a04-0d9d0cfa6c25"
      },
      "execution_count": null,
      "outputs": [
        {
          "output_type": "stream",
          "name": "stdout",
          "text": [
            "Hello \n"
          ]
        }
      ]
    },
    {
      "cell_type": "code",
      "source": [
        "print(a[0:5])"
      ],
      "metadata": {
        "colab": {
          "base_uri": "https://localhost:8080/"
        },
        "id": "zKJ0fTKit_df",
        "outputId": "b6da7576-f03e-4516-ce47-0e623089fd2b"
      },
      "execution_count": null,
      "outputs": [
        {
          "output_type": "stream",
          "name": "stdout",
          "text": [
            "Hello\n"
          ]
        }
      ]
    },
    {
      "cell_type": "code",
      "source": [
        "#print world from above string\n",
        "print(a[6:12])\n",
        "#end value always n+1"
      ],
      "metadata": {
        "colab": {
          "base_uri": "https://localhost:8080/"
        },
        "id": "NnS2IlniuU8t",
        "outputId": "66aedb07-772e-41de-fcc0-591244f869b6"
      },
      "execution_count": null,
      "outputs": [
        {
          "output_type": "stream",
          "name": "stdout",
          "text": [
            "world!\n"
          ]
        }
      ]
    },
    {
      "cell_type": "code",
      "source": [
        "#[start:end:step]\n",
        "a = \"hello world!\"\n",
        "#print \"Hlowrd\" from above string?\n",
        "b = a[0:2]\n",
        "c = a[9:11]\n",
        "print(b)\n",
        "print(c)\n",
        "print(b+c)"
      ],
      "metadata": {
        "colab": {
          "base_uri": "https://localhost:8080/"
        },
        "id": "Tm7JAUzDwwEN",
        "outputId": "7d2c5a4e-ad11-4d11-dc75-771c13d741eb"
      },
      "execution_count": null,
      "outputs": [
        {
          "output_type": "stream",
          "name": "stdout",
          "text": [
            "he\n",
            "ld\n",
            "held\n"
          ]
        }
      ]
    },
    {
      "cell_type": "code",
      "source": [
        "#default slicing operators\n",
        "a = \"Hello world!\"\n",
        "print(a[:])\n",
        "print(a[0:12:2])\n",
        "print(a[::2])"
      ],
      "metadata": {
        "colab": {
          "base_uri": "https://localhost:8080/"
        },
        "id": "xSyle9z9x4_A",
        "outputId": "7143050b-2922-440d-8589-61e4491d9d7c"
      },
      "execution_count": null,
      "outputs": [
        {
          "output_type": "stream",
          "name": "stdout",
          "text": [
            "Hello world!\n",
            "Hlowrd\n",
            "Hlowrd\n"
          ]
        }
      ]
    },
    {
      "cell_type": "code",
      "source": [
        "#negative indexing: use -ve index position numbers to access the characters in reverse direction\n",
        "a = \"Hello world!\"\n",
        "print(a[1:-6])"
      ],
      "metadata": {
        "colab": {
          "base_uri": "https://localhost:8080/"
        },
        "id": "ycGPHgCq0P7B",
        "outputId": "f300707f-cca0-4ba7-a889-afa5f98e869a"
      },
      "execution_count": null,
      "outputs": [
        {
          "output_type": "stream",
          "name": "stdout",
          "text": [
            "ello \n"
          ]
        }
      ]
    },
    {
      "cell_type": "code",
      "source": [
        "#reverse a strin\n",
        "a = \"Hello world!\"\n",
        "print(a[-1:-11:-2])"
      ],
      "metadata": {
        "colab": {
          "base_uri": "https://localhost:8080/"
        },
        "id": "2MmGsiKq10ud",
        "outputId": "59fb1d88-f455-48d5-eeee-af0957336173"
      },
      "execution_count": null,
      "outputs": [
        {
          "output_type": "stream",
          "name": "stdout",
          "text": [
            "!lo l\n"
          ]
        }
      ]
    },
    {
      "cell_type": "code",
      "source": [
        "#write a program weather given string is palindrome or not?\n",
        "a = input()\n",
        "print(a)\n",
        "print(a[::-1])"
      ],
      "metadata": {
        "colab": {
          "base_uri": "https://localhost:8080/"
        },
        "id": "XXFqZFG6lES7",
        "outputId": "dbb5ebdc-07be-4586-ee14-5de2937a2456"
      },
      "execution_count": null,
      "outputs": [
        {
          "output_type": "stream",
          "name": "stdout",
          "text": [
            "zenvius\n",
            "zenvius\n",
            "suivnez\n"
          ]
        }
      ]
    },
    {
      "cell_type": "code",
      "source": [
        "x = \"hello world!\"\n",
        "#function to check all the avialble methods---->dir()\n",
        "print(x)\n",
        "print(dir(x))\n",
        "#what are all methods applicable on an object?\n",
        "#for that we are using 'dir()' to find the string methods"
      ],
      "metadata": {
        "colab": {
          "base_uri": "https://localhost:8080/"
        },
        "id": "rkJ4oXQqmG8O",
        "outputId": "4b8007c8-20ea-4df0-ecef-1adbd257be12"
      },
      "execution_count": null,
      "outputs": [
        {
          "output_type": "stream",
          "name": "stdout",
          "text": [
            "hello world!\n",
            "['__add__', '__class__', '__contains__', '__delattr__', '__dir__', '__doc__', '__eq__', '__format__', '__ge__', '__getattribute__', '__getitem__', '__getnewargs__', '__gt__', '__hash__', '__init__', '__init_subclass__', '__iter__', '__le__', '__len__', '__lt__', '__mod__', '__mul__', '__ne__', '__new__', '__reduce__', '__reduce_ex__', '__repr__', '__rmod__', '__rmul__', '__setattr__', '__sizeof__', '__str__', '__subclasshook__', 'capitalize', 'casefold', 'center', 'count', 'encode', 'endswith', 'expandtabs', 'find', 'format', 'format_map', 'index', 'isalnum', 'isalpha', 'isascii', 'isdecimal', 'isdigit', 'isidentifier', 'islower', 'isnumeric', 'isprintable', 'isspace', 'istitle', 'isupper', 'join', 'ljust', 'lower', 'lstrip', 'maketrans', 'partition', 'removeprefix', 'removesuffix', 'replace', 'rfind', 'rindex', 'rjust', 'rpartition', 'rsplit', 'rstrip', 'split', 'splitlines', 'startswith', 'strip', 'swapcase', 'title', 'translate', 'upper', 'zfill']\n"
          ]
        }
      ]
    },
    {
      "cell_type": "code",
      "source": [
        "#important string methods\n",
        "\"\"\"1. capitalize\n",
        "   2. lower\n",
        "   3. lstrip\n",
        "   4. rstrip\n",
        "   5. split\n",
        "   6. strip\n",
        "   7. title\n",
        "   8. upper\n",
        "   9. replace\n",
        "   10. swapcase \"\"\""
      ],
      "metadata": {
        "id": "i1YeSAdtpQzt"
      },
      "execution_count": null,
      "outputs": []
    },
    {
      "cell_type": "code",
      "source": [
        "x = \"hello world!\"\n",
        "print(x.capitalize())"
      ],
      "metadata": {
        "colab": {
          "base_uri": "https://localhost:8080/"
        },
        "id": "F5siSCa7ptII",
        "outputId": "b4d5aef1-16d3-4c63-f149-2b243a8d368c"
      },
      "execution_count": null,
      "outputs": [
        {
          "output_type": "stream",
          "name": "stdout",
          "text": [
            "Hello world!\n"
          ]
        }
      ]
    },
    {
      "cell_type": "code",
      "source": [
        "x = \"Hello WORLD\"\n",
        "print(x.lower())"
      ],
      "metadata": {
        "colab": {
          "base_uri": "https://localhost:8080/"
        },
        "id": "N_pSiqzwrS_5",
        "outputId": "70854b8e-53d6-4acb-9a89-e16b7f9dc34d"
      },
      "execution_count": null,
      "outputs": [
        {
          "output_type": "stream",
          "name": "stdout",
          "text": [
            "hello world\n"
          ]
        }
      ]
    },
    {
      "cell_type": "code",
      "source": [
        "x = \"     Good   \"\n",
        "print(x.lstrip())\n",
        "print(x.split())\n",
        "print(x.rsplit)\n",
        "print(x.title)"
      ],
      "metadata": {
        "id": "h6ko2cCCr82z"
      },
      "execution_count": null,
      "outputs": []
    },
    {
      "cell_type": "code",
      "source": [
        "# in hello world program replace world with universe-->hello universe\n",
        "x = \"Hello world!\"\n",
        "print(x.replace('world!','Universe'))"
      ],
      "metadata": {
        "colab": {
          "base_uri": "https://localhost:8080/"
        },
        "id": "L9F82G3isfSl",
        "outputId": "1e68103f-4cfc-4259-971a-99ccbf6bdeaf"
      },
      "execution_count": null,
      "outputs": [
        {
          "output_type": "stream",
          "name": "stdout",
          "text": [
            "Hello Universe\n"
          ]
        }
      ]
    },
    {
      "cell_type": "code",
      "source": [
        "#format()-->method-->is used to fill the placeholders with specific input\n",
        "#it takes an argument  and placed in placeholder{} in a string\n",
        "age = 10\n",
        "txt = \"my age is \"\n",
        "print(txt + str(age))\n",
        "#concatination-->addition of 2 strings or sentences"
      ],
      "metadata": {
        "colab": {
          "base_uri": "https://localhost:8080/"
        },
        "id": "lN5qXTibtYDZ",
        "outputId": "099a2f66-e85d-4cbf-ab10-f22a186f5137"
      },
      "execution_count": null,
      "outputs": [
        {
          "output_type": "stream",
          "name": "stdout",
          "text": [
            "my age is 10\n"
          ]
        }
      ]
    },
    {
      "cell_type": "code",
      "source": [
        "age = 10\n",
        "txt = 'my age is {}'\n",
        "print(txt.format(age))\n"
      ],
      "metadata": {
        "colab": {
          "base_uri": "https://localhost:8080/"
        },
        "id": "LtiGDVniunwC",
        "outputId": "76627aee-e45d-47e2-f227-0ac9ee505500"
      },
      "execution_count": null,
      "outputs": [
        {
          "output_type": "stream",
          "name": "stdout",
          "text": [
            "my age is 10\n"
          ]
        }
      ]
    },
    {
      "cell_type": "code",
      "source": [
        "#f'string method-->format method to fill the placeholders with arguments\n",
        "item = 'product A'\n",
        "price = 99.99\n",
        "quantity = 10\n",
        "\n",
        "print(f'your order fopr {quantity} quantities of {item} price at {price*quantity} is confirmed.')"
      ],
      "metadata": {
        "colab": {
          "base_uri": "https://localhost:8080/"
        },
        "id": "SKHJPlDivZri",
        "outputId": "54b07d1d-01bb-4e8f-90db-68fad35903ff"
      },
      "execution_count": null,
      "outputs": [
        {
          "output_type": "stream",
          "name": "stdout",
          "text": [
            "your order fopr 10 quantities of product A price at 999.9 is confirmed.\n"
          ]
        }
      ]
    },
    {
      "cell_type": "code",
      "source": [
        "#escape characters\n",
        "x = float(input())\n",
        "print(f'the number u have entered is {x} and its double is {x*2}')"
      ],
      "metadata": {
        "colab": {
          "base_uri": "https://localhost:8080/"
        },
        "id": "5_Xx4SJHxhdw",
        "outputId": "23ec4848-d5b7-48c9-88ca-228cd154e382"
      },
      "execution_count": null,
      "outputs": [
        {
          "output_type": "stream",
          "name": "stdout",
          "text": [
            "2.46\n",
            "the number u have entered is 2.46 and its double is 4.92\n"
          ]
        }
      ]
    },
    {
      "cell_type": "code",
      "source": [
        "print(\"Dwayne \\\"The Rock\\\" Jhonson\")\n",
        "#escape characters---> if u want to print illegal characters --->\\--\\\n"
      ],
      "metadata": {
        "colab": {
          "base_uri": "https://localhost:8080/"
        },
        "id": "cZaBcKoezJxZ",
        "outputId": "ca5bd80c-57ef-4eb7-c7e8-b3232b1d0734"
      },
      "execution_count": null,
      "outputs": [
        {
          "output_type": "stream",
          "name": "stdout",
          "text": [
            "Dwayne \"The Rock\" Jhonson\n"
          ]
        }
      ]
    },
    {
      "cell_type": "code",
      "source": [
        "#Conditional statements:-\n",
        "\n",
        "print(10 == 10)\n",
        "print(10 != 10)\n",
        "\"\"\" >,\n",
        "    <\n",
        "    >=\n",
        "    <= \"\"\"\n"
      ],
      "metadata": {
        "colab": {
          "base_uri": "https://localhost:8080/"
        },
        "id": "gl46cz4O0l4C",
        "outputId": "cd27f776-6ff1-4e4c-ba86-4a13927d4956"
      },
      "execution_count": null,
      "outputs": [
        {
          "output_type": "stream",
          "name": "stdout",
          "text": [
            "True\n",
            "False\n"
          ]
        }
      ]
    },
    {
      "cell_type": "code",
      "source": [
        "print(\"hello\" == \"Hello\")"
      ],
      "metadata": {
        "colab": {
          "base_uri": "https://localhost:8080/"
        },
        "id": "JUrYJkKv265a",
        "outputId": "0a7eada9-e085-4bd6-fa9e-597b290babab"
      },
      "execution_count": null,
      "outputs": [
        {
          "output_type": "stream",
          "name": "stdout",
          "text": [
            "False\n"
          ]
        }
      ]
    },
    {
      "cell_type": "code",
      "source": [
        "marks = 50\n",
        "passing_marks = 30  #40 is pass marks\n",
        "#write a progra, to check grades\n",
        "if passing_marks >= 40:\n",
        "  print(\"congratulations\")\n",
        "  print(\"you have passed\")\n",
        "  print(f\"you have passed with {passing_marks} marks\")\n",
        "else:\n",
        "  print(\"you have failed\")\n",
        "  print(f'you have filed with {passing_marks} marks')\n",
        "  print(\"better luck next time\")"
      ],
      "metadata": {
        "colab": {
          "base_uri": "https://localhost:8080/"
        },
        "id": "RdLUDA21wnlX",
        "outputId": "6a453c99-63aa-4740-a1e8-cd12b8e41cbe"
      },
      "execution_count": null,
      "outputs": [
        {
          "output_type": "stream",
          "name": "stdout",
          "text": [
            "you have failed\n",
            "you have filed eith 30 marks\n",
            "better luck next time\n"
          ]
        }
      ]
    },
    {
      "cell_type": "markdown",
      "source": [
        "#loops"
      ],
      "metadata": {
        "id": "X8-8015W7RsU"
      }
    },
    {
      "cell_type": "code",
      "source": [
        "#why we use the loops?"
      ],
      "metadata": {
        "id": "MVWRumfpz1jl"
      },
      "execution_count": null,
      "outputs": []
    },
    {
      "cell_type": "code",
      "source": [],
      "metadata": {
        "id": "CtTTBDcK_QD3"
      },
      "execution_count": null,
      "outputs": []
    },
    {
      "cell_type": "code",
      "source": [
        "#why we use the loops?\n",
        "\"\"\"dry code\n",
        "d== dont\n",
        "r==repeat\n",
        "y==your self\n",
        "wet code\n",
        "w==write\n",
        "e==everything\n",
        "t==twice\"\"\"\n",
        "#two types of loops in puthon\n",
        "#while loop\n",
        "# for loop\n"
      ],
      "metadata": {
        "id": "l9J-Jb3F3hsu"
      },
      "execution_count": null,
      "outputs": []
    },
    {
      "cell_type": "code",
      "source": [
        "#while\n",
        "#what is whilw loop?\n",
        "#while loop-- works/runs a set of instructions as lond ascondition remains true"
      ],
      "metadata": {
        "id": "EYfjO0Oz-SOE"
      },
      "execution_count": null,
      "outputs": []
    },
    {
      "cell_type": "code",
      "source": [
        "intial = 1\n",
        "while intial <= 5:\n",
        "  print(\"go up\")\n",
        "  print(\"go down\")\n",
        "  print(\"===rep complted====\")\n",
        "  intial = intial + 1"
      ],
      "metadata": {
        "colab": {
          "base_uri": "https://localhost:8080/"
        },
        "id": "NNB7dGQ8_7kt",
        "outputId": "858b35f5-e693-4955-dd2a-3d94350d3d1b"
      },
      "execution_count": null,
      "outputs": [
        {
          "output_type": "stream",
          "name": "stdout",
          "text": [
            "go up\n",
            "go down\n",
            "===rep complted====\n",
            "go up\n",
            "go down\n",
            "===rep complted====\n",
            "go up\n",
            "go down\n",
            "===rep complted====\n",
            "go up\n",
            "go down\n",
            "===rep complted====\n",
            "go up\n",
            "go down\n",
            "===rep complted====\n"
          ]
        }
      ]
    },
    {
      "cell_type": "code",
      "source": [
        "ground = 0\n",
        "while ground <= 4:\n",
        "  ground = ground+1\n",
        "  if ground == 4:\n",
        "       print(\"you have reached 4th floor\")\n",
        "       print(\"gates open\")\n",
        "       print('++++++++++++++++++++++++++++++++++++++++')\n",
        "       if ground == 1:\n",
        "        print(\"you reached 1st floor\")\n",
        "       else:\n",
        "        print(\"plase close the door\")\n",
        "  else:\n",
        "    print(\"pleaseclose the door\")\n"
      ],
      "metadata": {
        "colab": {
          "base_uri": "https://localhost:8080/"
        },
        "id": "go3tzrPlBBQR",
        "outputId": "7f20207e-a70a-4384-a8ee-3b20b9fe482f"
      },
      "execution_count": null,
      "outputs": [
        {
          "output_type": "stream",
          "name": "stdout",
          "text": [
            "pleaseclose the door\n",
            "pleaseclose the door\n",
            "pleaseclose the door\n",
            "you have reached 4th floor\n",
            "gates open\n",
            "++++++++++++++++++++++++++++++++++++++++\n",
            "plase close the door\n",
            "pleaseclose the door\n"
          ]
        }
      ]
    },
    {
      "cell_type": "code",
      "source": [
        "num = [10,20,30,40,50]\n",
        "mul = []\n",
        "#write a program to print num *2?\n"
      ],
      "metadata": {
        "id": "8wIwTu9U_4EA",
        "colab": {
          "base_uri": "https://localhost:8080/"
        },
        "outputId": "e05eea42-da1c-4cd4-ed2d-fc1c7c0fb4b9"
      },
      "execution_count": null,
      "outputs": [
        {
          "output_type": "stream",
          "name": "stdout",
          "text": [
            "[10, 20, 30, 40, 50, 10, 20, 30, 40, 50]\n"
          ]
        }
      ]
    },
    {
      "cell_type": "code",
      "source": [
        "#what is break:- it stops the entire loop irrespective all the items in a collection\n",
        "num = [10,20,30,40,50]\n",
        "for x in num:\n",
        "  if x == 30:\n",
        "    continue\n",
        "  print(x)\n",
        "\n"
      ],
      "metadata": {
        "id": "sEIWodJ1_3Xc",
        "colab": {
          "base_uri": "https://localhost:8080/"
        },
        "outputId": "65635d5f-188a-4c2d-dbe5-f2b5156ca590"
      },
      "execution_count": null,
      "outputs": [
        {
          "output_type": "stream",
          "name": "stdout",
          "text": [
            "10\n",
            "20\n",
            "40\n",
            "50\n"
          ]
        }
      ]
    },
    {
      "cell_type": "code",
      "source": [
        "#what is continue?\n",
        "num = [10,20,30,40,50]\n",
        "for x in num:\n",
        "  if x == 30:\n",
        "    break\n",
        "  print(x)"
      ],
      "metadata": {
        "colab": {
          "base_uri": "https://localhost:8080/"
        },
        "id": "6mLGB3mLN68g",
        "outputId": "b7a480be-db74-428f-e764-beed87e2fe59"
      },
      "execution_count": null,
      "outputs": [
        {
          "output_type": "stream",
          "name": "stdout",
          "text": [
            "10\n",
            "20\n"
          ]
        }
      ]
    },
    {
      "cell_type": "code",
      "source": [
        "A = [10,20,30,40,50,60,70,80,90]\n",
        "B = []\n",
        "for x in A:\n",
        "  if x == 30:\n",
        "    continue\n",
        "  if x == 50:\n",
        "    continue\n",
        "  if x == 70:\n",
        "    continue\n",
        "  B.append(x)\n",
        "  print(B)"
      ],
      "metadata": {
        "colab": {
          "base_uri": "https://localhost:8080/"
        },
        "id": "vuozpWxxOcis",
        "outputId": "5aa19535-cf38-46b8-d210-15280858dd11"
      },
      "execution_count": null,
      "outputs": [
        {
          "output_type": "stream",
          "name": "stdout",
          "text": [
            "[10]\n",
            "[10, 20]\n",
            "[10, 20, 40]\n",
            "[10, 20, 40, 60]\n",
            "[10, 20, 40, 60, 80]\n",
            "[10, 20, 40, 60, 80, 90]\n"
          ]
        }
      ]
    },
    {
      "cell_type": "code",
      "source": [
        "num = [10, 20, 30, 40, 50]\n",
        "mul = []  # Initialize an empty list to store the results\n",
        "for i in num:\n",
        "    mul.append(i * 2)\n",
        "    print(mul)\n"
      ],
      "metadata": {
        "colab": {
          "base_uri": "https://localhost:8080/"
        },
        "id": "RRln01DLO6Nz",
        "outputId": "a1e82f79-0361-4e8e-c231-a6fe44ad4b02"
      },
      "execution_count": null,
      "outputs": [
        {
          "output_type": "stream",
          "name": "stdout",
          "text": [
            "[20]\n",
            "[20, 40]\n",
            "[20, 40, 60]\n",
            "[20, 40, 60, 80]\n",
            "[20, 40, 60, 80, 100]\n"
          ]
        }
      ]
    },
    {
      "cell_type": "code",
      "source": [
        "A = [10,20,30,40,50,60,70,80,90]\n",
        "B = []\n",
        "for x in A:\n",
        "  if x not in [30,50,70]:\n",
        "    B.append(x)\n",
        "  print(B)"
      ],
      "metadata": {
        "colab": {
          "base_uri": "https://localhost:8080/"
        },
        "id": "1htoScuSRMon",
        "outputId": "d4eb609d-8dfb-43e6-dea2-02159611f9ff"
      },
      "execution_count": null,
      "outputs": [
        {
          "output_type": "stream",
          "name": "stdout",
          "text": [
            "[10]\n",
            "[10, 20]\n",
            "[10, 20]\n",
            "[10, 20, 40]\n",
            "[10, 20, 40]\n",
            "[10, 20, 40, 60]\n",
            "[10, 20, 40, 60]\n",
            "[10, 20, 40, 60, 80]\n",
            "[10, 20, 40, 60, 80, 90]\n"
          ]
        }
      ]
    },
    {
      "cell_type": "code",
      "source": [
        "#range(end)\n",
        "for i in range(51):\n",
        "  print(i, end=',')"
      ],
      "metadata": {
        "colab": {
          "base_uri": "https://localhost:8080/"
        },
        "id": "eAWwqlFERas5",
        "outputId": "f96edae6-6855-44e9-8606-00d2e623c8be"
      },
      "execution_count": null,
      "outputs": [
        {
          "output_type": "stream",
          "name": "stdout",
          "text": [
            "0,1,2,3,4,5,6,7,8,9,10,11,12,13,14,15,16,17,18,19,20,21,22,23,24,25,26,27,28,29,30,31,32,33,34,35,36,37,38,39,40,41,42,43,44,45,46,47,48,49,50,"
          ]
        }
      ]
    },
    {
      "cell_type": "code",
      "source": [
        "#range(start:end)\n",
        "for i in range(10,51):\n",
        "  print(i, end=\",\")"
      ],
      "metadata": {
        "colab": {
          "base_uri": "https://localhost:8080/"
        },
        "id": "3IfsxfjuTHYU",
        "outputId": "c347c021-8e00-40f9-8585-ca1943d2f426"
      },
      "execution_count": null,
      "outputs": [
        {
          "output_type": "stream",
          "name": "stdout",
          "text": [
            "10,11,12,13,14,15,16,17,18,19,20,21,22,23,24,25,26,27,28,29,30,31,32,33,34,35,36,37,38,39,40,41,42,43,44,45,46,47,48,49,50,"
          ]
        }
      ]
    },
    {
      "cell_type": "code",
      "source": [
        "#range(start,end,step)\n",
        "#write a program to print range of even and odd numbers up to 100?\n",
        "a = int(input())\n",
        "even= []\n",
        "odd = []\n",
        "for i in range(a):\n",
        "  if i % 2 == 0:\n",
        "    even.append(i)\n",
        "  else:\n",
        "    odd.append(i)\n",
        "print(even)\n",
        "print(odd)\n"
      ],
      "metadata": {
        "id": "AuMs0FC8Tn4t"
      },
      "execution_count": null,
      "outputs": []
    },
    {
      "cell_type": "code",
      "source": [
        "x = \"hello world\"\n",
        "print(x)"
      ],
      "metadata": {
        "colab": {
          "base_uri": "https://localhost:8080/"
        },
        "id": "O6ilw7-AWyd3",
        "outputId": "232267d0-9867-4d95-897d-756ba7ae53c6"
      },
      "execution_count": null,
      "outputs": [
        {
          "output_type": "stream",
          "name": "stdout",
          "text": [
            "hello world\n"
          ]
        }
      ]
    },
    {
      "cell_type": "markdown",
      "source": [
        "#Collections"
      ],
      "metadata": {
        "id": "Q-L0-pDoXVkA"
      }
    },
    {
      "cell_type": "code",
      "source": [
        "#4 types of collections/ data types\n",
        "#1.tuple\n",
        "#2.list\n",
        "#3.set\n",
        "#.dictionary"
      ],
      "metadata": {
        "id": "YrXUtc3aXSQb"
      },
      "execution_count": null,
      "outputs": []
    },
    {
      "cell_type": "code",
      "source": [
        "#1. list: [] -- is ordered, changaable(mutaable), and it allows duplicates\n",
        "\n",
        "L1 = [\"Apple\",\"Banana\",\"cherries\",\"kiwi\",\"watermelo\",\"lemon\",\"Orange\",\"Orane\",\"Apple\"]\n",
        "print(len(L1))\n",
        "print(type(L1))"
      ],
      "metadata": {
        "colab": {
          "base_uri": "https://localhost:8080/"
        },
        "id": "r5MNTubUXjad",
        "outputId": "4c7254e4-3aad-4138-b89b-a093750fd3a6"
      },
      "execution_count": null,
      "outputs": [
        {
          "output_type": "stream",
          "name": "stdout",
          "text": [
            "9\n",
            "<class 'list'>\n"
          ]
        }
      ]
    },
    {
      "cell_type": "code",
      "source": [
        "print(L1[0])\n",
        "print(L1[0:5])\n",
        "print(L1[-3])\n",
        "print(L1[::-1])"
      ],
      "metadata": {
        "colab": {
          "base_uri": "https://localhost:8080/"
        },
        "id": "fZow4HzCY7mj",
        "outputId": "ebe4523b-4968-46d9-922b-182f64a6e460"
      },
      "execution_count": null,
      "outputs": [
        {
          "output_type": "stream",
          "name": "stdout",
          "text": [
            "Apple\n",
            "['Apple', 'Banana', 'cherries', 'kiwi', 'watermelo']\n",
            "Orange\n",
            "['Apple', 'Orane', 'Orange', 'lemon', 'watermelo', 'kiwi', 'cherries', 'Banana', 'Apple']\n"
          ]
        }
      ]
    },
    {
      "cell_type": "code",
      "source": [
        "#can we convert a list in to string\n",
        "l2 = ['Apple', 'Banana', 'cherries', 'kiwi', 'watermelo']\n",
        "#using the loop\n",
        "for x in l2:\n",
        "  print(x, end=' ')\n"
      ],
      "metadata": {
        "colab": {
          "base_uri": "https://localhost:8080/"
        },
        "id": "gTink1uiZSmL",
        "outputId": "2bdb7f96-f24c-4cca-d48e-6c373795ee25"
      },
      "execution_count": null,
      "outputs": [
        {
          "output_type": "stream",
          "name": "stdout",
          "text": [
            "Apple Banana cherries kiwi watermelo "
          ]
        }
      ]
    },
    {
      "cell_type": "code",
      "source": [
        "#changale/mutable\n",
        "#change--> replace A --> B\n",
        "#ADD the items in to the collection\n",
        "#how to delete the itemns in a collection\n"
      ],
      "metadata": {
        "id": "QmG_7b-XaGeh"
      },
      "execution_count": null,
      "outputs": []
    },
    {
      "cell_type": "code",
      "source": [
        "l2 = ['Apple', 'Banana', 'cherries', 'kiwi', 'watermelo']\n",
        "l2[0]='strawberry'\n",
        "print(l2)\n",
        "l2[0:3] = 'mango', 'pineapple','grape'\n",
        "print(l2)"
      ],
      "metadata": {
        "colab": {
          "base_uri": "https://localhost:8080/"
        },
        "id": "k-_C01C3bCxK",
        "outputId": "08c8b757-f53f-4473-e9a1-f128a9cf8721"
      },
      "execution_count": null,
      "outputs": [
        {
          "output_type": "stream",
          "name": "stdout",
          "text": [
            "['strawberry', 'Banana', 'cherries', 'kiwi', 'watermelo']\n",
            "['mango', 'pineapple', 'grape', 'kiwi', 'watermelo']\n"
          ]
        }
      ]
    },
    {
      "cell_type": "code",
      "source": [
        "#adding the list\n",
        "#append\n",
        "l2.append(\"dryfruits\")\n",
        "print(l2)\n"
      ],
      "metadata": {
        "colab": {
          "base_uri": "https://localhost:8080/"
        },
        "id": "G7B5P2x1bYVR",
        "outputId": "03e92040-ee40-42f4-b7d7-facb0a5d97d0"
      },
      "execution_count": null,
      "outputs": [
        {
          "output_type": "stream",
          "name": "stdout",
          "text": [
            "['mango', 'pineapple', 'grape', 'kiwi', 'watermelo', 'dryfruits']\n"
          ]
        }
      ]
    },
    {
      "cell_type": "code",
      "source": [
        "#i want to add element in specific index\n",
        "#insert\n",
        "l2.insert(4,'lemon')\n",
        "print(l2)"
      ],
      "metadata": {
        "colab": {
          "base_uri": "https://localhost:8080/"
        },
        "id": "v_vxCLHRd1r1",
        "outputId": "c10571f3-1fb2-4244-d545-de8673c4d393"
      },
      "execution_count": null,
      "outputs": [
        {
          "output_type": "stream",
          "name": "stdout",
          "text": [
            "['mango', 'pineapple', 'grape', 'kiwi', 'lemon', 'mango', 'watermelo', 'dryfruits']\n"
          ]
        }
      ]
    },
    {
      "cell_type": "code",
      "source": [
        "#extend method\n",
        "l3 = [10,20,30,40]\n",
        "l2.extend(l3)\n",
        "print(l2)"
      ],
      "metadata": {
        "colab": {
          "base_uri": "https://localhost:8080/"
        },
        "id": "ydE39ZJleqR1",
        "outputId": "a0f8b051-4561-4250-f193-9bc39e6ced84"
      },
      "execution_count": null,
      "outputs": [
        {
          "output_type": "stream",
          "name": "stdout",
          "text": [
            "['mango', 'pineapple', 'grape', 'kiwi', 'lemon', 'mango', 'watermelo', 'dryfruits', 10, 20, 30, 40, 10, 20, 30, 40]\n"
          ]
        }
      ]
    },
    {
      "cell_type": "code",
      "source": [
        "l4 = ['mango', 'pineapple', 'grape', 'kiwi', 'watermelo']\n",
        "l5 = [10,20]\n",
        "l4.insert(2,l5)\n",
        "print(l4)\n"
      ],
      "metadata": {
        "colab": {
          "base_uri": "https://localhost:8080/"
        },
        "id": "qB3h7x8ZfNyE",
        "outputId": "6cf4f9dc-7c62-4dc1-eb76-cdf470518bba"
      },
      "execution_count": null,
      "outputs": [
        {
          "output_type": "stream",
          "name": "stdout",
          "text": [
            "['mango', 'pineapple', [10, 20], 'grape', 'kiwi', 'watermelo']\n"
          ]
        }
      ]
    },
    {
      "cell_type": "code",
      "source": [
        "#delete\n",
        "l4 = ['mango', 'pineapple', 'grape', 'kiwi', 'watermelo']\n",
        "l4.remove(\"grape\")\n",
        "print(l4)"
      ],
      "metadata": {
        "colab": {
          "base_uri": "https://localhost:8080/"
        },
        "id": "cuQW2NlMf8fj",
        "outputId": "655f9e17-6e64-4173-8845-23060df5e3ec"
      },
      "execution_count": null,
      "outputs": [
        {
          "output_type": "stream",
          "name": "stdout",
          "text": [
            "['mango', 'pineapple', 'kiwi', 'watermelo']\n"
          ]
        }
      ]
    },
    {
      "cell_type": "code",
      "source": [
        "#pop\n",
        "l4.pop(2)\n",
        "\n",
        "print(l4)"
      ],
      "metadata": {
        "colab": {
          "base_uri": "https://localhost:8080/"
        },
        "id": "yaLVKY5FgS8l",
        "outputId": "0aaa2a51-b943-4694-ebfa-3a5e5b1ab563"
      },
      "execution_count": null,
      "outputs": [
        {
          "output_type": "stream",
          "name": "stdout",
          "text": [
            "['mango', 'pineapple', 'watermelo']\n"
          ]
        }
      ]
    },
    {
      "cell_type": "code",
      "source": [
        "l4.pop()\n",
        "print(l4)"
      ],
      "metadata": {
        "colab": {
          "base_uri": "https://localhost:8080/"
        },
        "id": "gYqeybuhg0P_",
        "outputId": "a597bb9b-f658-4523-fbb2-dff25e9c3e4c"
      },
      "execution_count": null,
      "outputs": [
        {
          "output_type": "stream",
          "name": "stdout",
          "text": [
            "['mango', 'pineapple']\n"
          ]
        }
      ]
    },
    {
      "cell_type": "code",
      "source": [
        "l7 = ['mango', 'pineapple', 'grape', 'kiwi', 'watermelo']\n",
        "print(l7)\n",
        "del l7[1:3]\n",
        "print(l7)"
      ],
      "metadata": {
        "colab": {
          "base_uri": "https://localhost:8080/"
        },
        "id": "GmjH1iz-hNSL",
        "outputId": "d6a98721-cc6d-425a-e34f-36c69c77abb3"
      },
      "execution_count": null,
      "outputs": [
        {
          "output_type": "stream",
          "name": "stdout",
          "text": [
            "['mango', 'pineapple', 'grape', 'kiwi', 'watermelo']\n",
            "['mango', 'kiwi', 'watermelo']\n"
          ]
        }
      ]
    },
    {
      "cell_type": "code",
      "source": [
        "#sorting can be done based on ascii number.\n",
        "#ascii--->american standard code for information interchnage\n",
        "l1 = ['mango',\"Apple\" ,'pineapple', 'grape', 'kiwi', 'watermelon']\n",
        "l1.insert(1,'apple')\n",
        "print(l1)"
      ],
      "metadata": {
        "colab": {
          "base_uri": "https://localhost:8080/"
        },
        "id": "eMEmxnofY7qW",
        "outputId": "ed2a109c-474e-4cfc-9d66-58af460c446e"
      },
      "execution_count": null,
      "outputs": [
        {
          "output_type": "stream",
          "name": "stdout",
          "text": [
            "['mango', 'apple', 'Apple', 'pineapple', 'grape', 'kiwi', 'watermelon']\n"
          ]
        }
      ]
    },
    {
      "cell_type": "code",
      "source": [
        "l1.sort()\n",
        "print(l1)"
      ],
      "metadata": {
        "colab": {
          "base_uri": "https://localhost:8080/"
        },
        "id": "EExNzrqIag6w",
        "outputId": "1a3360dc-8e8c-4bcb-b978-d863019b526a"
      },
      "execution_count": null,
      "outputs": [
        {
          "output_type": "stream",
          "name": "stdout",
          "text": [
            "['Apple', 'apple', 'grape', 'kiwi', 'mango', 'pineapple', 'watermelon']\n"
          ]
        }
      ]
    },
    {
      "cell_type": "code",
      "source": [
        "#sorting witout case sensitivity\n",
        "l1.sort(reverse = False,key = str.lower)\n",
        "print(l1)"
      ],
      "metadata": {
        "colab": {
          "base_uri": "https://localhost:8080/"
        },
        "id": "t-0PIKdhbvwp",
        "outputId": "8e3b29a2-4104-49b9-824f-ce84b179ee1e"
      },
      "execution_count": null,
      "outputs": [
        {
          "output_type": "stream",
          "name": "stdout",
          "text": [
            "['Apple', 'apple', 'grape', 'kiwi', 'mango', 'pineapple', 'watermelon']\n"
          ]
        }
      ]
    },
    {
      "cell_type": "markdown",
      "source": [
        "#Tuple"
      ],
      "metadata": {
        "id": "GTjw_DeadV2a"
      }
    },
    {
      "cell_type": "code",
      "source": [
        "#tuple:-ordered, unchangable(immutable), it allow the duplicate---()\n",
        "\n",
        " T1=('apple', 'apple', 'grape', 'kiwi', 'mango', 'pineapple', 'watermelon')\n",
        "print(type(T1))\n",
        "\n"
      ],
      "metadata": {
        "colab": {
          "base_uri": "https://localhost:8080/"
        },
        "id": "7k-zqAhVdXpZ",
        "outputId": "81c83a4e-abb4-45c7-9d8d-97d2447a225f"
      },
      "execution_count": null,
      "outputs": [
        {
          "output_type": "stream",
          "name": "stdout",
          "text": [
            "<class 'tuple'>\n"
          ]
        }
      ]
    },
    {
      "cell_type": "code",
      "source": [
        "T2 = (\"mango\", \"apple\", \"Apple\",  \"Apple\", \"Banana\",\"Banana\",\"Cherries\")\n",
        "print(T2)\n",
        "print(len(T2))\n"
      ],
      "metadata": {
        "colab": {
          "base_uri": "https://localhost:8080/"
        },
        "id": "tUxsYmzAeR99",
        "outputId": "14ca1329-dad4-4f7e-8869-4e989a4ea8db"
      },
      "execution_count": null,
      "outputs": [
        {
          "output_type": "stream",
          "name": "stdout",
          "text": [
            "('mango', 'apple', 'Apple', 'Apple', 'Banana', 'Banana', 'Cherries')\n",
            "7\n"
          ]
        }
      ]
    },
    {
      "cell_type": "code",
      "source": [
        "#ordered\n",
        "print(T2[2])\n",
        "print(T2[0:2])\n",
        "print(T2[::-1])"
      ],
      "metadata": {
        "colab": {
          "base_uri": "https://localhost:8080/"
        },
        "id": "ualW5upcfEQu",
        "outputId": "5370231d-ff04-4119-ea63-96043afeb26e"
      },
      "execution_count": null,
      "outputs": [
        {
          "output_type": "stream",
          "name": "stdout",
          "text": [
            "Apple\n",
            "('mango', 'apple')\n",
            "('Cherries', 'Banana', 'Banana', 'Apple', 'apple', 'mango')\n"
          ]
        }
      ]
    },
    {
      "cell_type": "code",
      "source": [
        "#Immutable---unchangable\n",
        "# T2[2]= 'starwberry'\n",
        "# print(T2)\n",
        "T2.pop(2)\n",
        "print(T2)\n"
      ],
      "metadata": {
        "colab": {
          "base_uri": "https://localhost:8080/",
          "height": 193
        },
        "id": "ND3SP2HifV9B",
        "outputId": "978d9c5c-3535-4901-c467-08999af0537c"
      },
      "execution_count": null,
      "outputs": [
        {
          "output_type": "error",
          "ename": "AttributeError",
          "evalue": "'tuple' object has no attribute 'pop'",
          "traceback": [
            "\u001b[0;31m---------------------------------------------------------------------------\u001b[0m",
            "\u001b[0;31mAttributeError\u001b[0m                            Traceback (most recent call last)",
            "\u001b[0;32m<ipython-input-19-352ad2c919b0>\u001b[0m in \u001b[0;36m<cell line: 4>\u001b[0;34m()\u001b[0m\n\u001b[1;32m      2\u001b[0m \u001b[0;31m# T2[2]= 'starwberry'\u001b[0m\u001b[0;34m\u001b[0m\u001b[0;34m\u001b[0m\u001b[0m\n\u001b[1;32m      3\u001b[0m \u001b[0;31m# print(T2)\u001b[0m\u001b[0;34m\u001b[0m\u001b[0;34m\u001b[0m\u001b[0m\n\u001b[0;32m----> 4\u001b[0;31m \u001b[0mT2\u001b[0m\u001b[0;34m.\u001b[0m\u001b[0mpop\u001b[0m\u001b[0;34m(\u001b[0m\u001b[0;36m2\u001b[0m\u001b[0;34m)\u001b[0m\u001b[0;34m\u001b[0m\u001b[0;34m\u001b[0m\u001b[0m\n\u001b[0m\u001b[1;32m      5\u001b[0m \u001b[0mprint\u001b[0m\u001b[0;34m(\u001b[0m\u001b[0mT2\u001b[0m\u001b[0;34m)\u001b[0m\u001b[0;34m\u001b[0m\u001b[0;34m\u001b[0m\u001b[0m\n",
            "\u001b[0;31mAttributeError\u001b[0m: 'tuple' object has no attribute 'pop'"
          ]
        }
      ]
    },
    {
      "cell_type": "code",
      "source": [
        "#WHAT ARE ALL THE METHODS WE CAN APPLY ON TUPLE?\n",
        "print(dir(T2))"
      ],
      "metadata": {
        "colab": {
          "base_uri": "https://localhost:8080/"
        },
        "id": "2sXTqF2GfnB3",
        "outputId": "b0671917-e43b-43c0-9f6a-e8c22db831fc"
      },
      "execution_count": null,
      "outputs": [
        {
          "output_type": "stream",
          "name": "stdout",
          "text": [
            "['__add__', '__class__', '__class_getitem__', '__contains__', '__delattr__', '__dir__', '__doc__', '__eq__', '__format__', '__ge__', '__getattribute__', '__getitem__', '__getnewargs__', '__gt__', '__hash__', '__init__', '__init_subclass__', '__iter__', '__le__', '__len__', '__lt__', '__mul__', '__ne__', '__new__', '__reduce__', '__reduce_ex__', '__repr__', '__rmul__', '__setattr__', '__sizeof__', '__str__', '__subclasshook__', 'count', 'index']\n"
          ]
        }
      ]
    },
    {
      "cell_type": "code",
      "source": [
        "print(T2.count(\"Apple\"))\n",
        "print(T2.index(\"Apple\"))"
      ],
      "metadata": {
        "colab": {
          "base_uri": "https://localhost:8080/"
        },
        "id": "JTgtkvhRgMw5",
        "outputId": "98eb1949-55ba-44eb-f583-cea7df771b0e"
      },
      "execution_count": null,
      "outputs": [
        {
          "output_type": "stream",
          "name": "stdout",
          "text": [
            "2\n",
            "2\n"
          ]
        }
      ]
    },
    {
      "cell_type": "code",
      "source": [
        "#create a list by using tuple\n",
        "l_t  = list(T2)\n",
        "print(l_t)"
      ],
      "metadata": {
        "colab": {
          "base_uri": "https://localhost:8080/"
        },
        "id": "WlNfkt4Og716",
        "outputId": "49fbdcee-6c4e-46ed-d274-ee246e677114"
      },
      "execution_count": null,
      "outputs": [
        {
          "output_type": "stream",
          "name": "stdout",
          "text": [
            "['mango', 'apple', 'Apple', 'Apple', 'Banana', 'Banana', 'Cherries']\n"
          ]
        }
      ]
    },
    {
      "cell_type": "code",
      "source": [
        "t_l = tuple(l_t)\n",
        "print(t_l)"
      ],
      "metadata": {
        "colab": {
          "base_uri": "https://localhost:8080/"
        },
        "id": "-59PXsnchT-L",
        "outputId": "ad5dcf48-1fb2-429f-9962-dd5e6d5a6be8"
      },
      "execution_count": null,
      "outputs": [
        {
          "output_type": "stream",
          "name": "stdout",
          "text": [
            "('mango', 'apple', 'Apple', 'Apple', 'Banana', 'Banana', 'Cherries')\n"
          ]
        }
      ]
    },
    {
      "cell_type": "code",
      "source": [
        "#diff b/w list and tuple\n",
        "#"
      ],
      "metadata": {
        "id": "PKksZdcUhans"
      },
      "execution_count": null,
      "outputs": []
    },
    {
      "cell_type": "markdown",
      "source": [
        "#set"
      ],
      "metadata": {
        "id": "lKpL8AO1i22G"
      }
    },
    {
      "cell_type": "code",
      "source": [
        "#set ---> is unodered, unchangable, duplicates cannot allowed.-->{}\n",
        "s1 = {'Apple',\"Bannana\",'Apple','cherries','pineapple','Mango','Apple','Apple','Apple'}\n",
        "print(s1)\n"
      ],
      "metadata": {
        "colab": {
          "base_uri": "https://localhost:8080/"
        },
        "id": "a2ai3tsIi1Y9",
        "outputId": "1ee42734-630d-441d-b28d-0308ae5261b4"
      },
      "execution_count": null,
      "outputs": [
        {
          "output_type": "stream",
          "name": "stdout",
          "text": [
            "{'Mango', 'cherries', 'Bannana', 'pineapple', 'Apple'}\n"
          ]
        }
      ]
    },
    {
      "cell_type": "code",
      "source": [
        "s1_l = list(s1)\n",
        "print(s1_l)"
      ],
      "metadata": {
        "colab": {
          "base_uri": "https://localhost:8080/"
        },
        "id": "QyHmfn-Nkhe8",
        "outputId": "83b82c7a-eb8a-426f-d451-c0e6970213cb"
      },
      "execution_count": null,
      "outputs": [
        {
          "output_type": "stream",
          "name": "stdout",
          "text": [
            "['Mango', 'cherries', 'Bannana', 'pineapple', 'Apple']\n"
          ]
        }
      ]
    },
    {
      "cell_type": "code",
      "source": [
        "s2= {'Apple',\"Bannana\",'cherries','pineapple','Mango'}\n",
        "for x in s2:\n",
        "  if x != 'Bannana':\n",
        "    print(x)\n",
        "#excepet bannana print all the items"
      ],
      "metadata": {
        "colab": {
          "base_uri": "https://localhost:8080/"
        },
        "id": "vC11mIYkk_1B",
        "outputId": "57e18ae9-ebfb-4fb1-a0fb-37b881827c56"
      },
      "execution_count": null,
      "outputs": [
        {
          "output_type": "stream",
          "name": "stdout",
          "text": [
            "Mango\n",
            "cherries\n",
            "pineapple\n",
            "Apple\n"
          ]
        }
      ]
    },
    {
      "cell_type": "code",
      "source": [
        "#unchangable but we can add and remove\n",
        "s2.add('oranges')\n",
        "print(s2)"
      ],
      "metadata": {
        "colab": {
          "base_uri": "https://localhost:8080/"
        },
        "id": "31kHvsthlyz6",
        "outputId": "58246060-38b5-4687-c3ad-eb4e09bdbf89"
      },
      "execution_count": null,
      "outputs": [
        {
          "output_type": "stream",
          "name": "stdout",
          "text": [
            "{'Mango', 'cherries', 'Bannana', 'pineapple', 'oranges', 'Apple'}\n"
          ]
        }
      ]
    },
    {
      "cell_type": "code",
      "source": [
        "s3 = (10,20,30)\n",
        "s2.update(s3)\n",
        "print(s2)\n"
      ],
      "metadata": {
        "colab": {
          "base_uri": "https://localhost:8080/"
        },
        "id": "93Zjzf6kmxAK",
        "outputId": "9b780500-2246-46a8-b28a-7c6ce32a2b49"
      },
      "execution_count": null,
      "outputs": [
        {
          "output_type": "stream",
          "name": "stdout",
          "text": [
            "{'pineapple', 10, 'cherries', 20, 'Bannana', 30, 'oranges', 'Mango', 'Apple'}\n"
          ]
        }
      ]
    },
    {
      "cell_type": "code",
      "source": [
        "#remove\n",
        "s2.remove('Mango')\n",
        "print(s2)"
      ],
      "metadata": {
        "colab": {
          "base_uri": "https://localhost:8080/",
          "height": 176
        },
        "id": "GptA2UkEnlOM",
        "outputId": "8d7275a0-1f35-4ab0-9c3d-ecc8de658c87"
      },
      "execution_count": null,
      "outputs": [
        {
          "output_type": "error",
          "ename": "KeyError",
          "evalue": "'Mango'",
          "traceback": [
            "\u001b[0;31m---------------------------------------------------------------------------\u001b[0m",
            "\u001b[0;31mKeyError\u001b[0m                                  Traceback (most recent call last)",
            "\u001b[0;32m<ipython-input-48-db7259011599>\u001b[0m in \u001b[0;36m<cell line: 2>\u001b[0;34m()\u001b[0m\n\u001b[1;32m      1\u001b[0m \u001b[0;31m#remove\u001b[0m\u001b[0;34m\u001b[0m\u001b[0;34m\u001b[0m\u001b[0m\n\u001b[0;32m----> 2\u001b[0;31m \u001b[0ms2\u001b[0m\u001b[0;34m.\u001b[0m\u001b[0mremove\u001b[0m\u001b[0;34m(\u001b[0m\u001b[0;34m'Mango'\u001b[0m\u001b[0;34m)\u001b[0m\u001b[0;34m\u001b[0m\u001b[0;34m\u001b[0m\u001b[0m\n\u001b[0m\u001b[1;32m      3\u001b[0m \u001b[0mprint\u001b[0m\u001b[0;34m(\u001b[0m\u001b[0ms2\u001b[0m\u001b[0;34m)\u001b[0m\u001b[0;34m\u001b[0m\u001b[0;34m\u001b[0m\u001b[0m\n",
            "\u001b[0;31mKeyError\u001b[0m: 'Mango'"
          ]
        }
      ]
    },
    {
      "cell_type": "code",
      "source": [
        "#discards\n",
        "s2.discard('pineapple')\n",
        "print(s2)\n"
      ],
      "metadata": {
        "colab": {
          "base_uri": "https://localhost:8080/"
        },
        "id": "kzUIdD1qn7Zb",
        "outputId": "5128fda5-df43-45f8-993b-688d0cef61f2"
      },
      "execution_count": null,
      "outputs": [
        {
          "output_type": "stream",
          "name": "stdout",
          "text": [
            "{10, 'cherries', 20, 'Bannana', 30, 'oranges', 'Apple'}\n"
          ]
        }
      ]
    },
    {
      "cell_type": "code",
      "source": [
        "3"
      ],
      "metadata": {
        "id": "VCq9Ddphokje"
      },
      "execution_count": null,
      "outputs": []
    },
    {
      "cell_type": "code",
      "source": [
        "s2.pop()\n",
        "print(s2)"
      ],
      "metadata": {
        "colab": {
          "base_uri": "https://localhost:8080/"
        },
        "id": "qY-wbMH_pB5m",
        "outputId": "59fba14b-d6fd-4b05-ea77-3e5600ac5105"
      },
      "execution_count": null,
      "outputs": [
        {
          "output_type": "stream",
          "name": "stdout",
          "text": [
            "{30, 'oranges', 'Apple'}\n"
          ]
        }
      ]
    },
    {
      "cell_type": "code",
      "source": [
        "#delte\n",
        "del s2\n",
        "print(s2)"
      ],
      "metadata": {
        "colab": {
          "base_uri": "https://localhost:8080/",
          "height": 176
        },
        "id": "qnfK9O5ZpRFf",
        "outputId": "1b0ee5a0-0c52-4941-bb9e-d93c3ba955f3"
      },
      "execution_count": null,
      "outputs": [
        {
          "output_type": "error",
          "ename": "NameError",
          "evalue": "name 's2' is not defined",
          "traceback": [
            "\u001b[0;31m---------------------------------------------------------------------------\u001b[0m",
            "\u001b[0;31mNameError\u001b[0m                                 Traceback (most recent call last)",
            "\u001b[0;32m<ipython-input-54-6bcd01691f21>\u001b[0m in \u001b[0;36m<cell line: 3>\u001b[0;34m()\u001b[0m\n\u001b[1;32m      1\u001b[0m \u001b[0;31m#delte\u001b[0m\u001b[0;34m\u001b[0m\u001b[0;34m\u001b[0m\u001b[0m\n\u001b[1;32m      2\u001b[0m \u001b[0;32mdel\u001b[0m \u001b[0ms2\u001b[0m\u001b[0;34m\u001b[0m\u001b[0;34m\u001b[0m\u001b[0m\n\u001b[0;32m----> 3\u001b[0;31m \u001b[0mprint\u001b[0m\u001b[0;34m(\u001b[0m\u001b[0ms2\u001b[0m\u001b[0;34m)\u001b[0m\u001b[0;34m\u001b[0m\u001b[0;34m\u001b[0m\u001b[0m\n\u001b[0m",
            "\u001b[0;31mNameError\u001b[0m: name 's2' is not defined"
          ]
        }
      ]
    },
    {
      "cell_type": "code",
      "source": [
        "s4 = [10,20,30]\n",
        "s1.update(s4)\n",
        "print(s1)"
      ],
      "metadata": {
        "colab": {
          "base_uri": "https://localhost:8080/"
        },
        "id": "fofCSBF_piTT",
        "outputId": "31b7a743-f47c-4bf8-db03-ff25e26e82e9"
      },
      "execution_count": null,
      "outputs": [
        {
          "output_type": "stream",
          "name": "stdout",
          "text": [
            "{10, 20, 30}\n"
          ]
        }
      ]
    },
    {
      "cell_type": "code",
      "source": [
        "s5 = {\"a\",\"b\",\"c\",\"d\"}\n",
        "s6 = {\"d\",\"e\",\"f\",\"g\"}\n",
        "s_add = s5.union(s6)\n",
        "print(s_add)"
      ],
      "metadata": {
        "colab": {
          "base_uri": "https://localhost:8080/"
        },
        "id": "XqzS9NMqqGCf",
        "outputId": "6a8db38a-c85a-4f68-a47d-d72bc4ea1ea6"
      },
      "execution_count": null,
      "outputs": [
        {
          "output_type": "stream",
          "name": "stdout",
          "text": [
            "{'g', 'd', 'c', 'f', 'a', 'b', 'e'}\n"
          ]
        }
      ]
    },
    {
      "cell_type": "code",
      "source": [
        "s5 = {\"a\",\"b\",\"c\",\"d\"}\n",
        "s6 = {\"d\",\"e\",\"f\",\"g\"}\n",
        "s_add = s5.intersection(s6)\n",
        "print(s_add)"
      ],
      "metadata": {
        "colab": {
          "base_uri": "https://localhost:8080/"
        },
        "id": "pOeC8fEGq432",
        "outputId": "2443afd3-4302-410e-b69a-714a104ea200"
      },
      "execution_count": null,
      "outputs": [
        {
          "output_type": "stream",
          "name": "stdout",
          "text": [
            "{'d'}\n"
          ]
        }
      ]
    },
    {
      "cell_type": "markdown",
      "source": [
        "#dictionary"
      ],
      "metadata": {
        "id": "BOU-ZKharBgv"
      }
    },
    {
      "cell_type": "code",
      "source": [
        "#what is dict?\n",
        "#unordered, chnagable, donot allow duplicate\n",
        "#where items stored in dict?\n",
        "# key:value pair"
      ],
      "metadata": {
        "id": "viMnd_tJrEk6"
      },
      "execution_count": null,
      "outputs": []
    },
    {
      "cell_type": "code",
      "source": [
        "d1 ={\n",
        "    \"Name\":\"shahul\",\n",
        "    \"age\":27,\n",
        "    \"education\":\"Masters in DS\",\n",
        "    \"education\":\"Btech Biome\"\n",
        "\n",
        "}\n",
        "print(len(d1))\n",
        "print(d1)"
      ],
      "metadata": {
        "colab": {
          "base_uri": "https://localhost:8080/"
        },
        "id": "pHdBwtrfrgm-",
        "outputId": "3c1ca791-cf97-4cc8-e531-2dbdff93d935"
      },
      "execution_count": null,
      "outputs": [
        {
          "output_type": "stream",
          "name": "stdout",
          "text": [
            "3\n",
            "{'Name': 'shahul', 'age': 27, 'education': 'Btech Biome'}\n"
          ]
        }
      ]
    },
    {
      "cell_type": "code",
      "source": [
        "d1 ={\n",
        "    \"Name\":\"shahul\",\n",
        "    \"age\":27,\n",
        "    \"education\":\"Masters in DS\",\n",
        "    \"education\":\"Btech Biome\",\n",
        "    \"fruits\": ['Mango', 'cherries', 'Bannana', 'pineapple', 'oranges', 'Apple']\n",
        "\n",
        "}\n",
        "print(type(d1))"
      ],
      "metadata": {
        "colab": {
          "base_uri": "https://localhost:8080/"
        },
        "id": "t9lqB1UksE7I",
        "outputId": "066ece70-1f3d-4942-85e3-1b89e5f1f2e7"
      },
      "execution_count": null,
      "outputs": [
        {
          "output_type": "stream",
          "name": "stdout",
          "text": [
            "<class 'dict'>\n"
          ]
        }
      ]
    },
    {
      "cell_type": "code",
      "source": [
        "print(d1[\"fruits\"][0])"
      ],
      "metadata": {
        "colab": {
          "base_uri": "https://localhost:8080/"
        },
        "id": "XNKBhTWos-30",
        "outputId": "4457347c-a985-4df9-9e7e-55ffc8ccf733"
      },
      "execution_count": null,
      "outputs": [
        {
          "output_type": "stream",
          "name": "stdout",
          "text": [
            "Mango\n"
          ]
        }
      ]
    },
    {
      "cell_type": "code",
      "source": [
        "d1['Name']=\"zenvius\"\n",
        "print(d1)"
      ],
      "metadata": {
        "colab": {
          "base_uri": "https://localhost:8080/"
        },
        "id": "LhZXTaUOtyj2",
        "outputId": "5a8cbd9d-b676-45b8-8004-101c69a9cc07"
      },
      "execution_count": null,
      "outputs": [
        {
          "output_type": "stream",
          "name": "stdout",
          "text": [
            "{'Name': 'zenvius', 'age': 27, 'education': 'Btech Biome', 'fruits': ['Mango', 'cherries', 'Bannana', 'pineapple', 'oranges', 'Apple']}\n"
          ]
        }
      ]
    },
    {
      "cell_type": "code",
      "source": [
        "d1['bike'] = 'interceptor'\n",
        "print(d1)\n",
        "#Note id their is extining key value will be updated, if not new key: value will added"
      ],
      "metadata": {
        "colab": {
          "base_uri": "https://localhost:8080/"
        },
        "id": "4P8rgOXguHik",
        "outputId": "e81b7884-7a0e-45d5-9ce4-373ef6d21d54"
      },
      "execution_count": null,
      "outputs": [
        {
          "output_type": "stream",
          "name": "stdout",
          "text": [
            "{'Name': 'zenvius', 'age': 27, 'education': 'Btech Biome', 'fruits': ['Mango', 'cherries', 'Bannana', 'pineapple', 'oranges', 'Apple'], 'bike': 'interceptor'}\n"
          ]
        }
      ]
    },
    {
      "cell_type": "code",
      "source": [
        "d1.pop('fruits')\n",
        "print(d1)"
      ],
      "metadata": {
        "colab": {
          "base_uri": "https://localhost:8080/"
        },
        "id": "hR3GpYpcufG2",
        "outputId": "5303f788-6680-4994-ec8c-bf6fff830a23"
      },
      "execution_count": null,
      "outputs": [
        {
          "output_type": "stream",
          "name": "stdout",
          "text": [
            "{'Name': 'zenvius', 'age': 27, 'education': 'Btech Biome', 'bike': 'interceptor'}\n"
          ]
        }
      ]
    },
    {
      "cell_type": "code",
      "source": [
        "d2 ={\n",
        "    \"Name\":\"shahul\",\n",
        "    \"age\":27,\n",
        "    \"education\":\"Masters in DS\",\n",
        "    \"education\":\"Btech Biome\",\n",
        "    \"fruits\": ['Mango', 'cherries']\n",
        "\n",
        "}\n",
        "print(d2)\n"
      ],
      "metadata": {
        "colab": {
          "base_uri": "https://localhost:8080/"
        },
        "id": "ltG3yro0u9Ob",
        "outputId": "e20221d0-a726-4388-ee65-f33f11471448"
      },
      "execution_count": null,
      "outputs": [
        {
          "output_type": "stream",
          "name": "stdout",
          "text": [
            "{'Name': 'shahul', 'age': 27, 'education': 'Btech Biome', 'fruits': ['Mango', 'cherries']}\n"
          ]
        }
      ]
    },
    {
      "cell_type": "code",
      "source": [
        "d2['fruits'][1] = 'kiwi'\n",
        "print(d2)"
      ],
      "metadata": {
        "colab": {
          "base_uri": "https://localhost:8080/"
        },
        "id": "QTTre_f9vKX4",
        "outputId": "e3b3ac99-c5b9-43e2-e293-7c74a256c183"
      },
      "execution_count": null,
      "outputs": [
        {
          "output_type": "stream",
          "name": "stdout",
          "text": [
            "{'Name': 'shahul', 'age': 27, 'education': 'Btech Biome', 'fruits': ['Mango', 'kiwi']}\n"
          ]
        }
      ]
    },
    {
      "cell_type": "code",
      "source": [
        "d2['fruits'].insert(1,'lemon')\n",
        "print(d2)"
      ],
      "metadata": {
        "colab": {
          "base_uri": "https://localhost:8080/"
        },
        "id": "65CkCG3Yvltx",
        "outputId": "263f0f4e-09ef-47c1-9d84-44ef8187623f"
      },
      "execution_count": null,
      "outputs": [
        {
          "output_type": "stream",
          "name": "stdout",
          "text": [
            "{'Name': 'shahul', 'age': 27, 'education': 'Btech Biome', 'fruits': ['Mango', 'lemon', 'kiwi']}\n"
          ]
        }
      ]
    },
    {
      "cell_type": "code",
      "source": [
        "d2['fruits'].append('Rose berry')\n",
        "print(d2)"
      ],
      "metadata": {
        "colab": {
          "base_uri": "https://localhost:8080/"
        },
        "id": "8ZJFqScWv-tq",
        "outputId": "3e006630-63e5-4f8c-f395-2be85dbe711d"
      },
      "execution_count": null,
      "outputs": [
        {
          "output_type": "stream",
          "name": "stdout",
          "text": [
            "{'Name': 'shahul', 'age': 27, 'education': 'Btech Biome', 'fruits': ['Mango', 'lemon', 'kiwi', 'Rose berry']}\n"
          ]
        }
      ]
    },
    {
      "cell_type": "code",
      "source": [
        "d3 = {'Name': 'shahul',\n",
        "      'age': 27,\n",
        "      'education': 'Btech Biome',\n",
        "      'fruits': ['Mango', 'lemon', 'kiwi', 'Rose berry']}\n",
        "\n",
        "d3.pop('fruits')\n",
        "print(d3)\n",
        "\n",
        "del d3['age']\n",
        "print(d3)\n",
        "\n",
        "d3.clear()\n",
        "print(d3)"
      ],
      "metadata": {
        "colab": {
          "base_uri": "https://localhost:8080/"
        },
        "id": "PRjdmghPwQ07",
        "outputId": "0f37bd45-9885-4364-f87c-c5dac72ea7c8"
      },
      "execution_count": null,
      "outputs": [
        {
          "output_type": "stream",
          "name": "stdout",
          "text": [
            "{'Name': 'shahul', 'age': 27, 'education': 'Btech Biome'}\n",
            "{'Name': 'shahul', 'education': 'Btech Biome'}\n",
            "{}\n"
          ]
        }
      ]
    },
    {
      "cell_type": "code",
      "source": [
        "#working with loops in dictinaray\n",
        "d4 = {'Name': 'shahul',\n",
        "      'age': 27,\n",
        "      'education': 'Btech Biome',\n",
        "      'fruits': ['Mango', 'lemon', 'kiwi', 'Rose berry']}\n",
        "\n",
        "for x in d4.keys():\n",
        "  print(x)\n",
        "#print values\n",
        "for x in d4.values():\n",
        "  print(x)"
      ],
      "metadata": {
        "colab": {
          "base_uri": "https://localhost:8080/"
        },
        "id": "CHa-Pfl1xrYO",
        "outputId": "27b77c13-65e0-4273-c73b-d9d4fe1111b6"
      },
      "execution_count": null,
      "outputs": [
        {
          "output_type": "stream",
          "name": "stdout",
          "text": [
            "Name\n",
            "age\n",
            "education\n",
            "fruits\n",
            "shahul\n",
            "27\n",
            "Btech Biome\n",
            "['Mango', 'lemon', 'kiwi', 'Rose berry']\n"
          ]
        }
      ]
    },
    {
      "cell_type": "code",
      "source": [
        "a = (\"hello world\",\"hell0\",\"hi\")\n",
        "print(a)\n",
        "print(type(a))"
      ],
      "metadata": {
        "colab": {
          "base_uri": "https://localhost:8080/"
        },
        "id": "PUCjMotHyji9",
        "outputId": "501e220e-4396-49e6-db8d-d201325c04b4"
      },
      "execution_count": null,
      "outputs": [
        {
          "output_type": "stream",
          "name": "stdout",
          "text": [
            "('hello world', 'hell0', 'hi')\n",
            "<class 'tuple'>\n"
          ]
        }
      ]
    },
    {
      "cell_type": "markdown",
      "source": [
        "#Functions"
      ],
      "metadata": {
        "id": "aXy55UraihmN"
      }
    },
    {
      "cell_type": "code",
      "source": [
        "#whaT is function?\n",
        "#A block of code which only runs when it is called\n",
        "print(\"hello\")\n",
        "print(len(\"hello\"))\n",
        "print(type(\"hello\"))"
      ],
      "metadata": {
        "id": "umLiByHAyytB",
        "colab": {
          "base_uri": "https://localhost:8080/"
        },
        "outputId": "11f9c014-6a96-4005-d90e-a302af282953"
      },
      "execution_count": null,
      "outputs": [
        {
          "output_type": "stream",
          "name": "stdout",
          "text": [
            "hello\n",
            "5\n",
            "<class 'str'>\n"
          ]
        }
      ]
    },
    {
      "cell_type": "code",
      "source": [
        "def f1():\n",
        "  print(\"hello world\")\n",
        "  print(\"this is running with a function\")\n",
        "  print(\"=============================\")\n",
        "\n",
        "f1()"
      ],
      "metadata": {
        "colab": {
          "base_uri": "https://localhost:8080/"
        },
        "id": "80GxXp_3jao-",
        "outputId": "d02f552a-9325-464f-f685-c46437fcd542"
      },
      "execution_count": null,
      "outputs": [
        {
          "output_type": "stream",
          "name": "stdout",
          "text": [
            "hello world\n",
            "this is running with a function\n",
            "=============================\n"
          ]
        }
      ]
    },
    {
      "cell_type": "code",
      "source": [
        "f1()"
      ],
      "metadata": {
        "colab": {
          "base_uri": "https://localhost:8080/"
        },
        "id": "BoQgZOUMl6my",
        "outputId": "a3c8c8dd-c424-407b-e11d-27c7ba5c48cc"
      },
      "execution_count": null,
      "outputs": [
        {
          "output_type": "stream",
          "name": "stdout",
          "text": [
            "hello world\n",
            "this is running with a function\n",
            "=============================\n"
          ]
        }
      ]
    },
    {
      "cell_type": "code",
      "source": [
        "def zenvius_ds():\n",
        "  print(\"heelo guys good morning\")\n",
        "  print(\"This is your module 2 \")\n",
        "  print(\"please practice your sessions\")\n",
        "\n",
        "zenvius_ds()"
      ],
      "metadata": {
        "colab": {
          "base_uri": "https://localhost:8080/"
        },
        "id": "01SZFLHDmDiN",
        "outputId": "a65af875-26de-4053-f421-7ac02daefe2d"
      },
      "execution_count": null,
      "outputs": [
        {
          "output_type": "stream",
          "name": "stdout",
          "text": [
            "heelo guys good morning\n",
            "This is your module 2 \n",
            "please practice your sessions\n"
          ]
        }
      ]
    },
    {
      "cell_type": "code",
      "source": [
        "#what is diff b/w pmarameter and argument?\n",
        "#CREATING A VARIABLE WHEN YOUR DEFINING A FUNCTION IS KNOWN AS PARAMETER\n",
        "#CALLING THE FUNCTION WITH CERTAIN VALUES IS KNOWN AS ARGUMENTS\n",
        "def details(name,AGE, sex, education):\n",
        "  print(f'hello {name} and my age is {AGE} my gender is {sex}, and i have done my master in {education}')\n",
        "#call function\n",
        "details(\"shahul\",'27',\"male\",\"Master in DS\")"
      ],
      "metadata": {
        "colab": {
          "base_uri": "https://localhost:8080/"
        },
        "id": "2ezhZIYpmuo3",
        "outputId": "a8cf338d-f5b3-4253-c55a-2c178cb1da6e"
      },
      "execution_count": null,
      "outputs": [
        {
          "output_type": "stream",
          "name": "stdout",
          "text": [
            "hello shahul and my age is 27 my gender is male, and i have done my master in Master in DS\n"
          ]
        }
      ]
    },
    {
      "cell_type": "code",
      "source": [
        "#WHAT do i do when i don't know how many parameters i pass?\n",
        "def f1(**name):\n",
        "  for x in name:\n",
        "    print(f'hello, {x}!')\n",
        "  print(\"=====================\")\n",
        "\n",
        "f1(Name = \"python\", last_name = \"programming language\")"
      ],
      "metadata": {
        "colab": {
          "base_uri": "https://localhost:8080/"
        },
        "id": "Cueha_1HoHbm",
        "outputId": "de4fc592-7144-4a80-8e88-845a527bb806"
      },
      "execution_count": null,
      "outputs": [
        {
          "output_type": "stream",
          "name": "stdout",
          "text": [
            "hello, Name!\n",
            "hello, last_name!\n",
            "=====================\n"
          ]
        }
      ]
    },
    {
      "cell_type": "code",
      "source": [
        "def f1(**name):\n",
        "  for x,y in name.items():\n",
        "    print(f'{x}={y}')\n",
        "f1(Name = \"python\", last_name = \"programming language\")\n",
        "f1(Name = 'java', last_name = \"programming language\", Mobile=9937272882)"
      ],
      "metadata": {
        "colab": {
          "base_uri": "https://localhost:8080/"
        },
        "id": "nxcCI1KJsUOK",
        "outputId": "43b071f0-62cc-4c57-e521-1d1a3aba9637"
      },
      "execution_count": null,
      "outputs": [
        {
          "output_type": "stream",
          "name": "stdout",
          "text": [
            "Name=python\n",
            "last_name=programming language\n",
            "Name=java\n",
            "last_name=programming language\n",
            "Mobile=9937272882\n"
          ]
        }
      ]
    },
    {
      "cell_type": "code",
      "source": [
        "print(10,20,30,40, sep='\\n')"
      ],
      "metadata": {
        "colab": {
          "base_uri": "https://localhost:8080/"
        },
        "id": "ceXZskJetGCk",
        "outputId": "6e7e3dcf-d263-46f2-90fc-b3b93731d04d"
      },
      "execution_count": null,
      "outputs": [
        {
          "output_type": "stream",
          "name": "stdout",
          "text": [
            "10\n",
            "20\n",
            "30\n",
            "40\n"
          ]
        }
      ]
    },
    {
      "cell_type": "code",
      "source": [
        "def f2(name,age,gender):\n",
        "  print(name,age,gender, sep='\\n')\n",
        "f2('shahul',27,'male')"
      ],
      "metadata": {
        "colab": {
          "base_uri": "https://localhost:8080/"
        },
        "id": "TeFxalqjtRwV",
        "outputId": "85cfab7e-3b06-4bd1-fff6-21ae5ef333bd"
      },
      "execution_count": null,
      "outputs": [
        {
          "output_type": "stream",
          "name": "stdout",
          "text": [
            "shahul\n",
            "27\n",
            "male\n"
          ]
        }
      ]
    },
    {
      "cell_type": "code",
      "source": [
        "#what do i do when yoy dont know hoe to deal with no of arguments?\n",
        "def f3(n1,n2,n3,n4):\n",
        "  print(f'hello, {n1}')\n",
        "\n",
        "f3('python','java','c++')"
      ],
      "metadata": {
        "colab": {
          "base_uri": "https://localhost:8080/",
          "height": 176
        },
        "id": "8L5TuZbEtrvN",
        "outputId": "f87a7ad3-fab8-4e3a-87ba-29aa383d01d7"
      },
      "execution_count": null,
      "outputs": [
        {
          "output_type": "error",
          "ename": "TypeError",
          "evalue": "f3() missing 1 required positional argument: 'n4'",
          "traceback": [
            "\u001b[0;31m---------------------------------------------------------------------------\u001b[0m",
            "\u001b[0;31mTypeError\u001b[0m                                 Traceback (most recent call last)",
            "\u001b[0;32m<ipython-input-37-550dcb1d52f1>\u001b[0m in \u001b[0;36m<cell line: 5>\u001b[0;34m()\u001b[0m\n\u001b[1;32m      3\u001b[0m   \u001b[0mprint\u001b[0m\u001b[0;34m(\u001b[0m\u001b[0;34mf'hello, {n1}'\u001b[0m\u001b[0;34m)\u001b[0m\u001b[0;34m\u001b[0m\u001b[0;34m\u001b[0m\u001b[0m\n\u001b[1;32m      4\u001b[0m \u001b[0;34m\u001b[0m\u001b[0m\n\u001b[0;32m----> 5\u001b[0;31m \u001b[0mf3\u001b[0m\u001b[0;34m(\u001b[0m\u001b[0;34m'python'\u001b[0m\u001b[0;34m,\u001b[0m\u001b[0;34m'java'\u001b[0m\u001b[0;34m,\u001b[0m\u001b[0;34m'c++'\u001b[0m\u001b[0;34m)\u001b[0m\u001b[0;34m\u001b[0m\u001b[0;34m\u001b[0m\u001b[0m\n\u001b[0m",
            "\u001b[0;31mTypeError\u001b[0m: f3() missing 1 required positional argument: 'n4'"
          ]
        }
      ]
    },
    {
      "cell_type": "code",
      "source": [
        "def f4(*name):\n",
        "  print(name)\n",
        "\n",
        "f4('python','java','c++',\"c\")\n"
      ],
      "metadata": {
        "colab": {
          "base_uri": "https://localhost:8080/"
        },
        "id": "TrFoHIwpu1Ub",
        "outputId": "6a6a5b08-9812-4f88-a9d7-8a9f7615edb1"
      },
      "execution_count": null,
      "outputs": [
        {
          "output_type": "stream",
          "name": "stdout",
          "text": [
            "('python', 'java', 'c++', 'c')\n"
          ]
        }
      ]
    },
    {
      "cell_type": "code",
      "source": [
        "#What do i do when i don't know how many arguments do i need to give?\n",
        "def f3(*name):\n",
        "\n",
        "#Using for loop to print in separate lines\n",
        "\n",
        "    print(name)\n",
        "\n",
        "\n",
        "\n",
        "#call the function\n",
        "f3('pyhton','java','c++')\n",
        "\n",
        "f3('mopedo','Future tech')"
      ],
      "metadata": {
        "id": "dlVTxpeSvsRD"
      },
      "execution_count": null,
      "outputs": []
    },
    {
      "cell_type": "code",
      "source": [
        "#What do i do when i don't know how many parameters do i need to give?\n",
        "\n",
        "def f5(**name):\n",
        "\n",
        "    print(name)\n",
        "\n",
        "\n",
        "f5(Name = 'python', last_name= 'programming language', age = 34, type= 'dynamically typed')\n",
        "\n"
      ],
      "metadata": {
        "colab": {
          "base_uri": "https://localhost:8080/"
        },
        "id": "Z9n6WGhqwDoy",
        "outputId": "27a63ecd-328b-441b-8c4d-e15ca556325b"
      },
      "execution_count": null,
      "outputs": [
        {
          "output_type": "stream",
          "name": "stdout",
          "text": [
            "{'Name': 'python', 'last_name': 'programming language', 'age': 34, 'type': 'dynamically typed'}\n"
          ]
        }
      ]
    },
    {
      "cell_type": "code",
      "source": [
        "#What do i do when i don't know how many parameters do i need to give?\n",
        "def f3(**name):\n",
        "#Using for loop to print in separate lines\n",
        "    for x,y in name.items():\n",
        "      print(f'{x} ={y}')\n",
        "\n",
        "#call the function\n",
        "f3(Name='pyhton',Last_name = ' languagae',Age = 34)"
      ],
      "metadata": {
        "colab": {
          "base_uri": "https://localhost:8080/"
        },
        "id": "_qsX3-pmw_vv",
        "outputId": "653dd041-4bb9-469f-8f6a-3587980eb495"
      },
      "execution_count": null,
      "outputs": [
        {
          "output_type": "stream",
          "name": "stdout",
          "text": [
            "Name =pyhton\n",
            "Last_name = languagae\n",
            "Age =34\n"
          ]
        }
      ]
    },
    {
      "cell_type": "code",
      "source": [
        "\"\"\" *--->arbitrary arguments(arugs)--->you don't know how many arguemnts you pass\n",
        "    **--->arbitrary keyword arguments(kwarugs)--> you don't know how many parameters you pass\"\"\"\n"
      ],
      "metadata": {
        "id": "GESbZDHvxLMW"
      },
      "execution_count": null,
      "outputs": []
    },
    {
      "cell_type": "code",
      "source": [
        "sum = 10\n",
        "\n",
        "def f1(x):\n",
        "  return x + sum\n",
        "print(f1(5))"
      ],
      "metadata": {
        "colab": {
          "base_uri": "https://localhost:8080/"
        },
        "id": "p3UufnxLzqh-",
        "outputId": "990c9f40-371f-493b-e5aa-f4546f7dac34"
      },
      "execution_count": null,
      "outputs": [
        {
          "output_type": "stream",
          "name": "stdout",
          "text": [
            "15\n"
          ]
        }
      ]
    },
    {
      "cell_type": "code",
      "source": [
        "#print sum of range of numbers?\n",
        "N = 7\n",
        "sum = 0\n",
        "for i in range(1,N+1):\n",
        "  #print(i)\n",
        "  sum += i\n",
        "print(sum)"
      ],
      "metadata": {
        "colab": {
          "base_uri": "https://localhost:8080/"
        },
        "id": "yXKhUv6_3KMO",
        "outputId": "c31dfc3d-140c-474c-9715-523c0404196f"
      },
      "execution_count": null,
      "outputs": [
        {
          "output_type": "stream",
          "name": "stdout",
          "text": [
            "28\n"
          ]
        }
      ]
    },
    {
      "cell_type": "markdown",
      "source": [
        "#List Comprehension"
      ],
      "metadata": {
        "id": "cj3RHbTXnU_D"
      }
    },
    {
      "cell_type": "code",
      "source": [
        "#list--->[]-->ordered, changle,allowduplicate\n",
        "\n",
        "a = [1,2,3,4,5,6]\n",
        "print(a[0:2])"
      ],
      "metadata": {
        "colab": {
          "base_uri": "https://localhost:8080/"
        },
        "id": "7FKjTdgynqhM",
        "outputId": "dbfe3141-a27e-47a2-9580-552008e23afc"
      },
      "execution_count": null,
      "outputs": [
        {
          "output_type": "stream",
          "name": "stdout",
          "text": [
            "[1, 2]\n"
          ]
        }
      ]
    },
    {
      "cell_type": "code",
      "source": [
        "#list comprehension:- it offer smaller line of code that you can use to create new list from the existing lis"
      ],
      "metadata": {
        "id": "0rFbrvbhoX_L"
      },
      "execution_count": null,
      "outputs": []
    },
    {
      "cell_type": "code",
      "source": [
        "fruit = [\"apple\",\"banana\",\"pineapple\",\"mango\",\"kiwi\"]\n",
        "new_list = []\n",
        "for x in fruit:\n",
        "  if 'a' in x:\n",
        "    new_list.append(x)\n",
        "print(new_list)"
      ],
      "metadata": {
        "colab": {
          "base_uri": "https://localhost:8080/"
        },
        "id": "Q_RGe6fwonZu",
        "outputId": "434c2e6f-c9e6-4c04-fd51-1b61d80a5d05"
      },
      "execution_count": null,
      "outputs": [
        {
          "output_type": "stream",
          "name": "stdout",
          "text": [
            "['apple', 'banana', 'pineapple', 'mango']\n"
          ]
        }
      ]
    },
    {
      "cell_type": "code",
      "source": [
        "fruit = [\"apple\",\"banana\",\"pineapple\",\"mango\",\"kiwi\"]\n",
        "new_fruits = [x for x in fruit if 'a' in x]\n",
        "print(new_fruits)"
      ],
      "metadata": {
        "colab": {
          "base_uri": "https://localhost:8080/"
        },
        "id": "Na5KX9bHqESh",
        "outputId": "cb24d56f-93b2-432a-bc3b-349a211e36bf"
      },
      "execution_count": null,
      "outputs": [
        {
          "output_type": "stream",
          "name": "stdout",
          "text": [
            "['apple', 'banana', 'pineapple', 'mango']\n"
          ]
        }
      ]
    },
    {
      "cell_type": "code",
      "source": [
        "#print a list without banana\n",
        "fruit = [\"apple\",\"banana\",\"pineapple\",\"mango\",\"kiwi\"]\n",
        "new_fruits = [x for x in fruit if x != \"banana\"]\n",
        "print(new_fruits)"
      ],
      "metadata": {
        "colab": {
          "base_uri": "https://localhost:8080/"
        },
        "id": "eG5OVrPbrGcw",
        "outputId": "67ff1c3c-e3c9-4207-efc2-6a4f0af8dcdb"
      },
      "execution_count": null,
      "outputs": [
        {
          "output_type": "stream",
          "name": "stdout",
          "text": [
            "['apple', 'pineapple', 'mango', 'kiwi']\n"
          ]
        }
      ]
    },
    {
      "cell_type": "code",
      "source": [
        "#print a range of numbers less than 5?\n",
        "a = [x for x in range(10) if x <= 5]\n",
        "print(a)"
      ],
      "metadata": {
        "colab": {
          "base_uri": "https://localhost:8080/"
        },
        "id": "ZPPy2IpFrk8G",
        "outputId": "695c20fd-3582-4140-ba95-d36f9195c7a3"
      },
      "execution_count": null,
      "outputs": [
        {
          "output_type": "stream",
          "name": "stdout",
          "text": [
            "[0, 1, 2, 3, 4, 5]\n"
          ]
        }
      ]
    },
    {
      "cell_type": "code",
      "source": [
        "#using of string methods\n",
        "fruit = [\"apple\",\"banana\",\"pineapple\",\"mango\",\"kiwi\"]\n",
        "fruits = [x.upper() for x in fruit ]\n",
        "print(fruits)"
      ],
      "metadata": {
        "colab": {
          "base_uri": "https://localhost:8080/"
        },
        "id": "OePZhMvYr_T-",
        "outputId": "f6b92c7b-c091-4b16-a969-eae16a76598b"
      },
      "execution_count": null,
      "outputs": [
        {
          "output_type": "stream",
          "name": "stdout",
          "text": [
            "['APPLE', 'BANANA', 'PINEAPPLE', 'MANGO', 'KIWI']\n"
          ]
        }
      ]
    },
    {
      "cell_type": "code",
      "source": [
        "#replace banana with oranage\n",
        "fruit = [\"apple\",\"banana\",\"pineapple\",\"mango\",\"kiwi\"]\n",
        "fruit[1] = 'ornage'\n",
        "print(fruit)"
      ],
      "metadata": {
        "colab": {
          "base_uri": "https://localhost:8080/"
        },
        "id": "1ZrLzN00spLU",
        "outputId": "9e503922-685e-41fa-e3d8-f4d7419cb668"
      },
      "execution_count": null,
      "outputs": [
        {
          "output_type": "stream",
          "name": "stdout",
          "text": [
            "['apple', 'ornage', 'pineapple', 'mango', 'kiwi']\n"
          ]
        }
      ]
    },
    {
      "cell_type": "code",
      "source": [
        "fruit = [\"apple\",\"banana\",\"pineapple\",\"mango\",\"kiwi\"]\n",
        "\n",
        "new =[x if x != 'banana' else \"orange\" for x in fruit]\n",
        "print(new)"
      ],
      "metadata": {
        "colab": {
          "base_uri": "https://localhost:8080/"
        },
        "id": "ExOBLrD1s981",
        "outputId": "fea67936-4239-4355-9cf4-57e44633db22"
      },
      "execution_count": null,
      "outputs": [
        {
          "output_type": "stream",
          "name": "stdout",
          "text": [
            "['apple', 'orange', 'pineapple', 'mango', 'kiwi']\n"
          ]
        }
      ]
    },
    {
      "cell_type": "code",
      "source": [
        "#syntax for LC = [Items for items in collection conditions]"
      ],
      "metadata": {
        "id": "gBb1QrF_t2no"
      },
      "execution_count": null,
      "outputs": []
    },
    {
      "cell_type": "code",
      "source": [
        "#print even and odd number in range 21?\n",
        "\n",
        "even = [x for x in range(21) if x % 2 == 0]\n",
        "print(even)\n",
        "\n",
        "odd = [x for x in range(21) if x % 2 != 0]\n",
        "print(odd)"
      ],
      "metadata": {
        "colab": {
          "base_uri": "https://localhost:8080/"
        },
        "id": "hHKWzICYw_pa",
        "outputId": "778d9cd2-6d89-4db5-8563-f279f00a558e"
      },
      "execution_count": null,
      "outputs": [
        {
          "output_type": "stream",
          "name": "stdout",
          "text": [
            "[0, 2, 4, 6, 8, 10, 12, 14, 16, 18, 20]\n",
            "[1, 3, 5, 7, 9, 11, 13, 15, 17, 19]\n"
          ]
        }
      ]
    },
    {
      "cell_type": "code",
      "source": [
        "even = [x * 2 for x in range(21) if x % 2 == 0]\n",
        "print(even)"
      ],
      "metadata": {
        "colab": {
          "base_uri": "https://localhost:8080/"
        },
        "id": "Xjvc7PFKz3l0",
        "outputId": "89b2b49d-620e-4480-c726-4e79e0e221e2"
      },
      "execution_count": null,
      "outputs": [
        {
          "output_type": "stream",
          "name": "stdout",
          "text": [
            "[0, 4, 8, 12, 16, 20, 24, 28, 32, 36, 40]\n"
          ]
        }
      ]
    },
    {
      "cell_type": "markdown",
      "source": [
        "#Lamda function"
      ],
      "metadata": {
        "id": "E9rPRYvY0HPE"
      }
    },
    {
      "cell_type": "code",
      "source": [
        "#what is lamda?\n",
        "#is an anonymous function which can have many arguments but single expression--->its has no name\n"
      ],
      "metadata": {
        "id": "f8YHGj2X0GZF"
      },
      "execution_count": null,
      "outputs": []
    },
    {
      "cell_type": "code",
      "source": [
        "def shahul():\n",
        "  print(\"hai shahul\")\n",
        "\n",
        "shahul()"
      ],
      "metadata": {
        "colab": {
          "base_uri": "https://localhost:8080/"
        },
        "id": "fXAilDgK0tke",
        "outputId": "01e75bdc-c1d8-4366-c74c-df37baae4b14"
      },
      "execution_count": null,
      "outputs": [
        {
          "output_type": "stream",
          "name": "stdout",
          "text": [
            "hai shahul\n"
          ]
        }
      ]
    },
    {
      "cell_type": "code",
      "source": [
        "#syntax for lambda function:\n",
        "\"lambda arguments: expression\"\n",
        "\n",
        "#Q)wha is an argument and expresiion?\n",
        "#expression-->is some statement/ calculation/steps using that values to give single value"
      ],
      "metadata": {
        "id": "JSyozlkK1YvR"
      },
      "execution_count": null,
      "outputs": []
    },
    {
      "cell_type": "code",
      "source": [
        "x = lambda a : a + 10\n",
        "print(x(5))"
      ],
      "metadata": {
        "colab": {
          "base_uri": "https://localhost:8080/"
        },
        "id": "qmWYVbNX43Io",
        "outputId": "d3bc0a68-2b7c-44f0-e23a-87df11bbbb35"
      },
      "execution_count": null,
      "outputs": [
        {
          "output_type": "stream",
          "name": "stdout",
          "text": [
            "15\n"
          ]
        }
      ]
    },
    {
      "cell_type": "code",
      "source": [
        "y = lambda b: b % 10\n",
        "print(y(5))\n"
      ],
      "metadata": {
        "colab": {
          "base_uri": "https://localhost:8080/"
        },
        "id": "bAKh7I0g5Uwy",
        "outputId": "4fecc71c-3329-4a0f-d471-ab607830ff9e"
      },
      "execution_count": null,
      "outputs": [
        {
          "output_type": "stream",
          "name": "stdout",
          "text": [
            "5\n"
          ]
        }
      ]
    },
    {
      "cell_type": "code",
      "source": [
        "z = lambda a,b,c : a+b+c\n",
        "print(z(5,6,9))"
      ],
      "metadata": {
        "colab": {
          "base_uri": "https://localhost:8080/"
        },
        "id": "Fm4URb3N5wFw",
        "outputId": "bb67eb96-c20b-40cb-9222-865b0248a623"
      },
      "execution_count": null,
      "outputs": [
        {
          "output_type": "stream",
          "name": "stdout",
          "text": [
            "20\n"
          ]
        }
      ]
    },
    {
      "cell_type": "code",
      "source": [
        "#lets create a calculator:\n",
        "def square(x):\n",
        "  return x ** 2\n",
        "#create cube function\n",
        "def cube(x):\n",
        "  return x ** 3\n",
        "# cretae four to the power of\n",
        "def fourth(x):\n",
        "  return x ** 4\n",
        "#create squaRE  root\n",
        "def square_root(x):\n",
        "  return x ** 0.5\n",
        "\n",
        "print(square(2))\n",
        "print(cube(4))\n",
        "print(fourth(6))\n",
        "print(square_root(10))"
      ],
      "metadata": {
        "colab": {
          "base_uri": "https://localhost:8080/"
        },
        "id": "mJM2TTAowyTu",
        "outputId": "487b910f-1ddf-4dce-d90c-0d269b2928ca"
      },
      "execution_count": null,
      "outputs": [
        {
          "output_type": "stream",
          "name": "stdout",
          "text": [
            "4\n",
            "64\n",
            "1296\n",
            "3.1622776601683795\n"
          ]
        }
      ]
    },
    {
      "cell_type": "code",
      "source": [
        "def power(n):\n",
        "  return lambda a : a ** n\n",
        "squre  = power(2)\n",
        "cube = power(3)\n",
        "sq_root = power(0.5)\n",
        "print(squre(2))\n",
        "print(cube(4))\n",
        "print(sq_root(25))"
      ],
      "metadata": {
        "colab": {
          "base_uri": "https://localhost:8080/"
        },
        "id": "wyWPdPWswyQa",
        "outputId": "4af100e1-9eee-42a8-fa93-b5b99fa0022c"
      },
      "execution_count": null,
      "outputs": [
        {
          "output_type": "stream",
          "name": "stdout",
          "text": [
            "4\n",
            "64\n",
            "5.0\n"
          ]
        }
      ]
    },
    {
      "cell_type": "code",
      "source": [
        "x = \"Amazing\"\n",
        "print(x)"
      ],
      "metadata": {
        "colab": {
          "base_uri": "https://localhost:8080/"
        },
        "id": "0uFkxMCLwyN3",
        "outputId": "4ec358f9-d7b9-4ca1-dc43-2a4cb588dcd8"
      },
      "execution_count": null,
      "outputs": [
        {
          "output_type": "stream",
          "name": "stdout",
          "text": [
            "Amazing\n"
          ]
        }
      ]
    },
    {
      "cell_type": "code",
      "source": [
        "def f1():\n",
        "  print(x)\n",
        "f1()"
      ],
      "metadata": {
        "colab": {
          "base_uri": "https://localhost:8080/"
        },
        "id": "fH1rX7efwyLm",
        "outputId": "1aab4325-65b5-4211-8d85-42e0bdd7df7b"
      },
      "execution_count": null,
      "outputs": [
        {
          "output_type": "stream",
          "name": "stdout",
          "text": [
            "Amazing\n"
          ]
        }
      ]
    },
    {
      "cell_type": "code",
      "source": [
        "def f2():\n",
        "  return (x)\n",
        "print(f2())"
      ],
      "metadata": {
        "colab": {
          "base_uri": "https://localhost:8080/"
        },
        "id": "C15CU_SlwyJD",
        "outputId": "ee014128-e1cc-4d3d-bc6c-f1995554861c"
      },
      "execution_count": null,
      "outputs": [
        {
          "output_type": "stream",
          "name": "stdout",
          "text": [
            "Amazing\n"
          ]
        }
      ]
    },
    {
      "cell_type": "code",
      "source": [
        "#what is global varaible?\n",
        "#creating a varible outside of the function is known as globle variable\n"
      ],
      "metadata": {
        "id": "k-tkE8hxwyGb"
      },
      "execution_count": null,
      "outputs": []
    },
    {
      "cell_type": "code",
      "source": [
        "#what is a local variable?\n",
        "#creating varible inside of the fucntion is known as local varible\n",
        "def f3():\n",
        "  x = 'fentastic'\n",
        "  return x\n",
        "print(f3())"
      ],
      "metadata": {
        "colab": {
          "base_uri": "https://localhost:8080/"
        },
        "id": "3siICZyPwyD6",
        "outputId": "1398065e-55bc-4ce7-fc38-77252ffb60de"
      },
      "execution_count": null,
      "outputs": [
        {
          "output_type": "stream",
          "name": "stdout",
          "text": [
            "fentastic\n"
          ]
        }
      ]
    },
    {
      "cell_type": "code",
      "source": [
        "#global varibles are never affected by local variables"
      ],
      "metadata": {
        "id": "R9BSvlerwyBL"
      },
      "execution_count": null,
      "outputs": []
    },
    {
      "cell_type": "markdown",
      "source": [
        "#Map()"
      ],
      "metadata": {
        "id": "DPl7j3FY5IJ7"
      }
    },
    {
      "cell_type": "code",
      "source": [
        "#what maps does is?\n",
        "#it uses functions on iterables\n",
        "#iterables are nothing but collections-->set, tuple,dict,list"
      ],
      "metadata": {
        "id": "CpwFkqFBwx-3"
      },
      "execution_count": null,
      "outputs": []
    },
    {
      "cell_type": "code",
      "source": [
        "#map will take a function and run it over the iterables\n",
        "#functions are the \"1st class object\" one function can act as argument to the other function\n",
        "\n",
        "#calculate lenth of friuts in acollection?\n",
        "\n",
        "fruits = [\"apple\",\"banana\",\"cherries\",\"pinepple\",\"organe\"]\n",
        "#add length of items in separate list\n",
        "new_len = []\n",
        "for x in fruits:\n",
        "  print(x)\n",
        "  new_len.append(len(x))\n",
        "print(new_len)\n"
      ],
      "metadata": {
        "colab": {
          "base_uri": "https://localhost:8080/"
        },
        "id": "igHj41z9wxWW",
        "outputId": "b71a8247-b630-4aa4-e588-cd027e861cc0"
      },
      "execution_count": null,
      "outputs": [
        {
          "output_type": "stream",
          "name": "stdout",
          "text": [
            "apple\n",
            "banana\n",
            "cherries\n",
            "pinepple\n",
            "organe\n",
            "[5, 6, 8, 8, 6]\n"
          ]
        }
      ]
    },
    {
      "cell_type": "code",
      "source": [
        "length_new = [len(a) for a in fruits]\n",
        "print(length_new)"
      ],
      "metadata": {
        "colab": {
          "base_uri": "https://localhost:8080/"
        },
        "id": "ElFX4OIkwxTt",
        "outputId": "998e8026-5cf0-4973-8362-09a695524f96"
      },
      "execution_count": null,
      "outputs": [
        {
          "output_type": "stream",
          "name": "stdout",
          "text": [
            "[5, 6, 8, 8, 6]\n"
          ]
        }
      ]
    },
    {
      "cell_type": "code",
      "source": [
        "#map will runs a function over the iterables\n",
        "#syntax = map(function, iterables)\n",
        "#before excuting map we need to decide weater you want o/p in list,tuple ,set\n",
        "length = list(map(len,fruits))\n",
        "print(length)"
      ],
      "metadata": {
        "colab": {
          "base_uri": "https://localhost:8080/"
        },
        "id": "Di9tf3h4wxRh",
        "outputId": "ce48f3cb-6e2c-4919-a4d5-55dbfd1bdf98"
      },
      "execution_count": null,
      "outputs": [
        {
          "output_type": "stream",
          "name": "stdout",
          "text": [
            "[5, 6, 8, 8, 6]\n"
          ]
        }
      ]
    },
    {
      "cell_type": "code",
      "source": [
        "#mostly used when you take the input()"
      ],
      "metadata": {
        "id": "ypMygQB8wxO5"
      },
      "execution_count": null,
      "outputs": []
    },
    {
      "cell_type": "code",
      "source": [
        "user = input()\n",
        "print(type(user))\n"
      ],
      "metadata": {
        "colab": {
          "base_uri": "https://localhost:8080/"
        },
        "id": "psCH7m7AwxMK",
        "outputId": "628dc05f-7123-4df1-fef8-6fdb466fc81d"
      },
      "execution_count": null,
      "outputs": [
        {
          "output_type": "stream",
          "name": "stdout",
          "text": [
            "1,2,3,4,5,6,7,8,9\n",
            "<class 'str'>\n"
          ]
        }
      ]
    },
    {
      "cell_type": "code",
      "source": [
        "user = input().split()\n",
        "print(user)\n",
        "print(type(user))\n",
        "#how to convert string in to integer"
      ],
      "metadata": {
        "colab": {
          "base_uri": "https://localhost:8080/"
        },
        "id": "brGJbexGAG65",
        "outputId": "168a4461-7047-4492-ee30-9f8fe8785227"
      },
      "execution_count": null,
      "outputs": [
        {
          "output_type": "stream",
          "name": "stdout",
          "text": [
            "1,2,3,4,5,6,7,8,9\n",
            "['1,2,3,4,5,6,7,8,9']\n",
            "<class 'list'>\n"
          ]
        }
      ]
    },
    {
      "cell_type": "code",
      "source": [
        "user = input().split()\n",
        "number =[]\n",
        "for x in user:\n",
        "  number.append(int(x))\n",
        "print(number)\n",
        "print(type(number))\n"
      ],
      "metadata": {
        "colab": {
          "base_uri": "https://localhost:8080/"
        },
        "id": "PGtensOfAqgT",
        "outputId": "4a90eac4-3767-439b-f673-bf698fc11ea8"
      },
      "execution_count": null,
      "outputs": [
        {
          "output_type": "stream",
          "name": "stdout",
          "text": [
            "10 20 30 40\n",
            "[10, 20, 30, 40]\n",
            "<class 'list'>\n"
          ]
        }
      ]
    },
    {
      "cell_type": "code",
      "source": [
        "num = tuple(map(int,user))\n",
        "print(num)"
      ],
      "metadata": {
        "colab": {
          "base_uri": "https://localhost:8080/"
        },
        "id": "DKLcBpQaCO87",
        "outputId": "2924d623-3c3e-4011-9441-a979c747e782"
      },
      "execution_count": null,
      "outputs": [
        {
          "output_type": "stream",
          "name": "stdout",
          "text": [
            "(10, 20, 30, 40)\n"
          ]
        }
      ]
    },
    {
      "cell_type": "code",
      "source": [
        "#how can i print  in double?\n",
        "user = input().split()\n",
        "double = tuple(map(lambda a : a*2, map(int,user)))\n",
        "print(double)\n"
      ],
      "metadata": {
        "colab": {
          "base_uri": "https://localhost:8080/"
        },
        "id": "AlQAr2RuCuaq",
        "outputId": "2b620a7d-e85e-4aae-fd54-0b31d2132222"
      },
      "execution_count": null,
      "outputs": [
        {
          "output_type": "stream",
          "name": "stdout",
          "text": [
            "10 20 30 40\n",
            "(20, 40, 60, 80)\n"
          ]
        }
      ]
    },
    {
      "cell_type": "code",
      "source": [
        "a = [1,2,3,4,5,6]\n",
        "print(a*2)"
      ],
      "metadata": {
        "colab": {
          "base_uri": "https://localhost:8080/"
        },
        "id": "cjWI_6ibD95Z",
        "outputId": "414b8c1f-fcdc-4452-89fd-6d74d246286e"
      },
      "execution_count": null,
      "outputs": [
        {
          "output_type": "stream",
          "name": "stdout",
          "text": [
            "[1, 2, 3, 4, 5, 6, 1, 2, 3, 4, 5, 6]\n"
          ]
        }
      ]
    },
    {
      "cell_type": "markdown",
      "source": [
        "#filletr ()"
      ],
      "metadata": {
        "id": "hguyfYQwHQyQ"
      }
    },
    {
      "cell_type": "code",
      "source": [
        "#syntax --> collection(fileter(function,iterables))\n",
        "age = [12,15,16,18,45,21,18,17,56,23,35,15,8,10]\n",
        "#i want ages of adult\n",
        "def adult(x):\n",
        "  if x >= 18:\n",
        "    return True\n",
        "  else:\n",
        "    return False\n",
        "\n",
        "# print(adult(18))"
      ],
      "metadata": {
        "colab": {
          "base_uri": "https://localhost:8080/"
        },
        "id": "GOi1669cHTAn",
        "outputId": "29db9570-88ca-4127-8557-08ffe7fe7527"
      },
      "execution_count": null,
      "outputs": [
        {
          "output_type": "stream",
          "name": "stdout",
          "text": [
            "True\n"
          ]
        }
      ]
    },
    {
      "cell_type": "code",
      "source": [
        "m1 = list(map(adult,age))\n",
        "print(m1)"
      ],
      "metadata": {
        "colab": {
          "base_uri": "https://localhost:8080/"
        },
        "id": "yLUnX5zkIYRx",
        "outputId": "823812c9-e11e-4103-e0d5-51409caef56e"
      },
      "execution_count": null,
      "outputs": [
        {
          "output_type": "stream",
          "name": "stdout",
          "text": [
            "[False, False, False, True, True, True, True, False, True, True, True, False, False, False]\n"
          ]
        }
      ]
    },
    {
      "cell_type": "code",
      "source": [
        "#note:- same like in map if we want to display output we need decide the collection\n",
        "f1 = list(filter(adult,age))\n",
        "print(f1)"
      ],
      "metadata": {
        "colab": {
          "base_uri": "https://localhost:8080/"
        },
        "id": "PSFYdUauI1fH",
        "outputId": "c05eeb65-f075-47df-c7a6-3d7750240eda"
      },
      "execution_count": null,
      "outputs": [
        {
          "output_type": "stream",
          "name": "stdout",
          "text": [
            "[18, 45, 21, 18, 56, 23, 35]\n"
          ]
        }
      ]
    },
    {
      "cell_type": "code",
      "source": [
        "\"\"\"Note:- filter basically filters your orginal collection that returns true or false ,if values that comes\n",
        "out to be true it will be stored in a collection that we decided\"\"\""
      ],
      "metadata": {
        "id": "k_NVuyD-JDs1"
      },
      "execution_count": null,
      "outputs": []
    },
    {
      "cell_type": "code",
      "source": [
        "#let's create the Class\n",
        "#use key word Class\n",
        "\n",
        "# class customer:\n",
        "#     Bank_name = 'HFC Bnak'\n",
        "#     Branch    = 'Mubai'\n",
        "#     state     = 'Maharstra'\n",
        "#     IFSc      ='hfc0000234'\n",
        "# #create an method\n",
        "#     def welcome(self):\n",
        "#         print('hello and welcome to hfc bank')\n",
        "#\n",
        "# #create an object\n",
        "# c1 = customer()\n",
        "# c2 = customer()\n",
        "# c3=customer()\n",
        "# c1.welcome()\n",
        "# c2.welcome()\n",
        "# c3.welcome()\n",
        "#\n",
        "# print(c1.Bank_name)\n",
        "# print(c1.IFSc)\n",
        "\n",
        "#Attributes are divided intp 2 types\n",
        "#1.class attributes --->applicible to any object\n",
        "#2.object attributes-->unique properties applicable to particular object\n",
        "#when you create an object by default it runs with  __init__\n",
        "\n",
        "class customer:\n",
        "    Bank_name = 'HFC Bnak'\n",
        "    Branch    = 'Mubai'\n",
        "    state     = 'Maharstra'\n",
        "    IFSc      ='hfc0000234'\n",
        "    def __init__(self,name,age,intial_amount,acc_No):\n",
        "        self.name = name\n",
        "        self.age = age\n",
        "        self.intial_amount = intial_amount\n",
        "        self.acc_No = acc_No\n",
        "    def welcome(self):\n",
        "        print(f'hello {self.name} and welcome to {self.Bank_name}, {self.Branch}!!!'\n",
        "              f'your current balance is {self.intial_amount}')\n",
        "    def check_balance(self):\n",
        "        print(f'your current balance is {self.intial_amount}')\n",
        "    def deposit(self,amount):\n",
        "        self.intial_amount += amount   #--->  self.balance = self.balance + amount\n",
        "        print(f\"Transaction colpeted.\"\n",
        "              f'{amount} has been credited to your {self.Bank_name} account no {self.acc_No}'\n",
        "              f'updated balace: {self.intial_amount}')\n",
        "    def withdraw(self, amount):\n",
        "        if amount <= self.intial_amount:\n",
        "            self.intial_amount -= amount  # --->  self.balance = self.balance - amount\n",
        "            print(f\"Transaction colpeted.\"\n",
        "              f'{amount} has been debited from your {self.Bank_name} account no {self.acc_No}'\n",
        "              f'updated balace: {self.intial_amount}')\n",
        "        else:\n",
        "            print(\"Insuficient funds\")\n",
        "            self.check_balance()\n",
        "#create an object\n",
        "c1 = customer(\"python\", 36, 10000, 123456727)\n",
        "# c2 = customer(\"java\",54,5000)\n",
        "# print(c1.intial_amount)\n",
        "# print(c2.intial_amount)\n",
        "# c1.deposit(10000)\n",
        "# c1.withdraw(25000)\n",
        "\n",
        "#to call the object attribute--> objectname.attribute\n",
        "\n",
        "\n",
        "\n",
        "\n",
        "x = \"hello word\"\n",
        "print(dir(x))\n"
      ],
      "metadata": {
        "id": "v1mV6LEMe1vI"
      },
      "execution_count": null,
      "outputs": []
    },
    {
      "cell_type": "markdown",
      "source": [
        "#File handling"
      ],
      "metadata": {
        "id": "d9dvOUlnfo2l"
      }
    },
    {
      "cell_type": "code",
      "source": [
        "#handling a certain file which is not python\n",
        "#ex-excel,pdf,word\n",
        "#open()-->funtion\n",
        "#open(filename,mode)\n",
        "#what are all the modes of file handling\n",
        "#4 modes---> r, w, a, x\n",
        "\n",
        "f = open('//content//sample_data//README.md','r')\n",
        "f.close()\n",
        "print(f)\n"
      ],
      "metadata": {
        "colab": {
          "base_uri": "https://localhost:8080/"
        },
        "id": "Rc9H49HdfOO-",
        "outputId": "fb0a2349-fbe9-48ce-b6af-b7c8c3e361c6"
      },
      "execution_count": null,
      "outputs": [
        {
          "output_type": "stream",
          "name": "stdout",
          "text": [
            "<_io.TextIOWrapper name='//content//sample_data//README.md' mode='r' encoding='UTF-8'>\n"
          ]
        }
      ]
    },
    {
      "cell_type": "markdown",
      "source": [
        "#reading an excel file"
      ],
      "metadata": {
        "id": "IwmhRaqZgzfM"
      }
    },
    {
      "cell_type": "code",
      "source": [
        "f = open(\"//Copy of bangalore_cars.xlsx\")\n",
        "print(f.read())\n",
        "f.close()"
      ],
      "metadata": {
        "colab": {
          "base_uri": "https://localhost:8080/",
          "height": 297
        },
        "id": "0FX4aSm4gy9B",
        "outputId": "a5cf3866-d478-4a6c-adf6-aeb90d43e664"
      },
      "execution_count": null,
      "outputs": [
        {
          "output_type": "error",
          "ename": "UnicodeDecodeError",
          "evalue": "'utf-8' codec can't decode byte 0x9d in position 54: invalid start byte",
          "traceback": [
            "\u001b[0;31m---------------------------------------------------------------------------\u001b[0m",
            "\u001b[0;31mUnicodeDecodeError\u001b[0m                        Traceback (most recent call last)",
            "\u001b[0;32m<ipython-input-2-e2c271a6dfd7>\u001b[0m in \u001b[0;36m<cell line: 2>\u001b[0;34m()\u001b[0m\n\u001b[1;32m      1\u001b[0m \u001b[0mf\u001b[0m \u001b[0;34m=\u001b[0m \u001b[0mopen\u001b[0m\u001b[0;34m(\u001b[0m\u001b[0;34m\"//Copy of bangalore_cars.xlsx\"\u001b[0m\u001b[0;34m)\u001b[0m\u001b[0;34m\u001b[0m\u001b[0;34m\u001b[0m\u001b[0m\n\u001b[0;32m----> 2\u001b[0;31m \u001b[0mprint\u001b[0m\u001b[0;34m(\u001b[0m\u001b[0mf\u001b[0m\u001b[0;34m.\u001b[0m\u001b[0mread\u001b[0m\u001b[0;34m(\u001b[0m\u001b[0;34m)\u001b[0m\u001b[0;34m)\u001b[0m\u001b[0;34m\u001b[0m\u001b[0;34m\u001b[0m\u001b[0m\n\u001b[0m\u001b[1;32m      3\u001b[0m \u001b[0mf\u001b[0m\u001b[0;34m.\u001b[0m\u001b[0mclose\u001b[0m\u001b[0;34m(\u001b[0m\u001b[0;34m)\u001b[0m\u001b[0;34m\u001b[0m\u001b[0;34m\u001b[0m\u001b[0m\n",
            "\u001b[0;32m/usr/lib/python3.10/codecs.py\u001b[0m in \u001b[0;36mdecode\u001b[0;34m(self, input, final)\u001b[0m\n\u001b[1;32m    320\u001b[0m         \u001b[0;31m# decode input (taking the buffer into account)\u001b[0m\u001b[0;34m\u001b[0m\u001b[0;34m\u001b[0m\u001b[0m\n\u001b[1;32m    321\u001b[0m         \u001b[0mdata\u001b[0m \u001b[0;34m=\u001b[0m \u001b[0mself\u001b[0m\u001b[0;34m.\u001b[0m\u001b[0mbuffer\u001b[0m \u001b[0;34m+\u001b[0m \u001b[0minput\u001b[0m\u001b[0;34m\u001b[0m\u001b[0;34m\u001b[0m\u001b[0m\n\u001b[0;32m--> 322\u001b[0;31m         \u001b[0;34m(\u001b[0m\u001b[0mresult\u001b[0m\u001b[0;34m,\u001b[0m \u001b[0mconsumed\u001b[0m\u001b[0;34m)\u001b[0m \u001b[0;34m=\u001b[0m \u001b[0mself\u001b[0m\u001b[0;34m.\u001b[0m\u001b[0m_buffer_decode\u001b[0m\u001b[0;34m(\u001b[0m\u001b[0mdata\u001b[0m\u001b[0;34m,\u001b[0m \u001b[0mself\u001b[0m\u001b[0;34m.\u001b[0m\u001b[0merrors\u001b[0m\u001b[0;34m,\u001b[0m \u001b[0mfinal\u001b[0m\u001b[0;34m)\u001b[0m\u001b[0;34m\u001b[0m\u001b[0;34m\u001b[0m\u001b[0m\n\u001b[0m\u001b[1;32m    323\u001b[0m         \u001b[0;31m# keep undecoded input until the next call\u001b[0m\u001b[0;34m\u001b[0m\u001b[0;34m\u001b[0m\u001b[0m\n\u001b[1;32m    324\u001b[0m         \u001b[0mself\u001b[0m\u001b[0;34m.\u001b[0m\u001b[0mbuffer\u001b[0m \u001b[0;34m=\u001b[0m \u001b[0mdata\u001b[0m\u001b[0;34m[\u001b[0m\u001b[0mconsumed\u001b[0m\u001b[0;34m:\u001b[0m\u001b[0;34m]\u001b[0m\u001b[0;34m\u001b[0m\u001b[0;34m\u001b[0m\u001b[0m\n",
            "\u001b[0;31mUnicodeDecodeError\u001b[0m: 'utf-8' codec can't decode byte 0x9d in position 54: invalid start byte"
          ]
        }
      ]
    },
    {
      "cell_type": "code",
      "source": [
        "#xlrd -->to read xls document import xlrd package\n",
        "#convert xlsx format to xls format\n",
        "import xlrd\n",
        "loc = \"//content/file_example_XLS_10.xls\"\n",
        "wb = xlrd.open_workbook(loc)\n",
        "sheet = wb.sheet_by_index(0)\n",
        "\n",
        "\n",
        "      #read data\n",
        "#how many rows and howmany columns\n",
        "print(sheet.nrows)\n",
        "print(sheet.ncols)\n",
        "#read particular cell\n",
        "print(sheet.cell_value(2,3))  #(2,3)---> 2 is row value and 3 is cloumn value\n",
        "#print entire row\n",
        "print(sheet.row_values(0))\n",
        "print(sheet.col_values(1))\n",
        "#extract all the data\n",
        "\n",
        "for x in range(sheet.nrows):\n",
        "    print(sheet.row_values(x))\n"
      ],
      "metadata": {
        "colab": {
          "base_uri": "https://localhost:8080/"
        },
        "id": "dSmxfI2-mmpQ",
        "outputId": "54a8eb87-6d14-4ca8-8440-c997f8382091"
      },
      "execution_count": null,
      "outputs": [
        {
          "output_type": "stream",
          "name": "stdout",
          "text": [
            "Abril\n",
            "10\n",
            "8\n",
            "Female\n",
            "[0.0, 'First Name', 'Last Name', 'Gender', 'Country', 'Age', 'Date', 'Id']\n",
            "['First Name', 'Dulce', 'Mara', 'Philip', 'Kathleen', 'Nereida', 'Gaston', 'Etta', 'Earlean', 'Vincenza']\n",
            "[0.0, 'First Name', 'Last Name', 'Gender', 'Country', 'Age', 'Date', 'Id']\n",
            "[1.0, 'Dulce', 'Abril', 'Female', 'United States', 32.0, '15/10/2017', 1562.0]\n",
            "[2.0, 'Mara', 'Hashimoto', 'Female', 'Great Britain', 25.0, '16/08/2016', 1582.0]\n",
            "[3.0, 'Philip', 'Gent', 'Male', 'France', 36.0, '21/05/2015', 2587.0]\n",
            "[4.0, 'Kathleen', 'Hanner', 'Female', 'United States', 25.0, '15/10/2017', 3549.0]\n",
            "[5.0, 'Nereida', 'Magwood', 'Female', 'United States', 58.0, '16/08/2016', 2468.0]\n",
            "[6.0, 'Gaston', 'Brumm', 'Male', 'United States', 24.0, '21/05/2015', 2554.0]\n",
            "[7.0, 'Etta', 'Hurn', 'Female', 'Great Britain', 56.0, '15/10/2017', 3598.0]\n",
            "[8.0, 'Earlean', 'Melgar', 'Female', 'United States', 27.0, '16/08/2016', 2456.0]\n",
            "[9.0, 'Vincenza', 'Weiland', 'Female', 'United States', 40.0, '21/05/2015', 6548.0]\n"
          ]
        }
      ]
    },
    {
      "cell_type": "markdown",
      "source": [
        "#Iterators"
      ],
      "metadata": {
        "id": "ypu_zJU81Vf1"
      }
    },
    {
      "cell_type": "code",
      "source": [
        "#it helps you in taking the large amount of data in to small memory\n",
        "#means it breaks the data  in to tiny chunks\n",
        "#create a list that zero to infinite?\n",
        "fruits = [\"apple\",\"banana\",'cherry',\"kiwi\"]\n",
        "for x in fruits:\n",
        "  print(x)"
      ],
      "metadata": {
        "colab": {
          "base_uri": "https://localhost:8080/"
        },
        "id": "xooe2mnW0y8a",
        "outputId": "994e023e-5347-4d54-d1fb-46d898aa1150"
      },
      "execution_count": null,
      "outputs": [
        {
          "output_type": "stream",
          "name": "stdout",
          "text": [
            "apple\n",
            "banana\n",
            "cherry\n",
            "kiwi\n"
          ]
        }
      ]
    },
    {
      "cell_type": "code",
      "source": [
        "#2 types of iterators\n",
        "#1.__iter__()\n",
        "#2.__next__()"
      ],
      "metadata": {
        "id": "BpKl3C0P0zJ5"
      },
      "execution_count": null,
      "outputs": []
    },
    {
      "cell_type": "code",
      "source": [
        "x = iter(fruits)\n",
        "print(next(x))\n",
        "print(next(x))\n",
        "print(next(x))\n",
        "print(next(x))\n",
        "# print(next(x))"
      ],
      "metadata": {
        "colab": {
          "base_uri": "https://localhost:8080/"
        },
        "id": "6aQ3Rh9L5AXQ",
        "outputId": "ad031ba8-e77a-49e7-9391-3cefbaf10d64"
      },
      "execution_count": null,
      "outputs": [
        {
          "output_type": "stream",
          "name": "stdout",
          "text": [
            "apple\n",
            "banana\n",
            "cherry\n",
            "kiwi\n"
          ]
        }
      ]
    },
    {
      "cell_type": "code",
      "source": [
        "#u can create your iters by uing classes and object\n",
        "\n",
        "class Number:\n",
        "  def __iter__(self):\n",
        "    self.initial = 0\n",
        "    return self\n",
        "  def __next__(self):\n",
        "    x = self.initial\n",
        "    self.initial += 1\n",
        "    return x\n",
        "\n",
        "n = Number()\n",
        "\n",
        "for x in n:\n",
        "  print(x)\n"
      ],
      "metadata": {
        "id": "foVBtQa75pal"
      },
      "execution_count": null,
      "outputs": []
    },
    {
      "cell_type": "code",
      "source": [
        "n = Number()\n",
        "x = iter(n)\n",
        "print(next(x))\n",
        "print(next(x))\n",
        "print(next(x))"
      ],
      "metadata": {
        "colab": {
          "base_uri": "https://localhost:8080/"
        },
        "id": "frSsnKxf78tQ",
        "outputId": "76f5ed11-447d-48ad-eaef-9e4a47a3176c"
      },
      "execution_count": null,
      "outputs": [
        {
          "output_type": "stream",
          "name": "stdout",
          "text": [
            "0\n",
            "1\n",
            "2\n"
          ]
        }
      ]
    }
  ]
}